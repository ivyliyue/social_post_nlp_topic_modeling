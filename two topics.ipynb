{
 "cells": [
  {
   "cell_type": "code",
   "execution_count": 1,
   "metadata": {},
   "outputs": [],
   "source": [
    "import re\n",
    "import numpy as np\n",
    "import pandas as pd\n",
    "from pprint import pprint\n",
    "from numpy import array\n",
    "from collections import Counter\n",
    "import random\n",
    "import string \n",
    "\n"
   ]
  },
  {
   "cell_type": "code",
   "execution_count": 2,
   "metadata": {},
   "outputs": [],
   "source": [
    "import io\n",
    "from sklearn.decomposition import PCA\n",
    "from sklearn.manifold import TSNE\n",
    "# other import\n",
    "import os\n",
    "import time\n",
    "import itertools\n",
    "from unicodedata import normalize\n",
    "from functools import reduce\n",
    "\n"
   ]
  },
  {
   "cell_type": "code",
   "execution_count": 3,
   "metadata": {},
   "outputs": [],
   "source": [
    "import nltk\n",
    "from nltk.tokenize import RegexpTokenizer\n",
    "from nltk.corpus import stopwords\n",
    "stopWords = stopwords.words('english')\n",
    "from nltk.stem import WordNetLemmatizer \n"
   ]
  },
  {
   "cell_type": "code",
   "execution_count": 4,
   "metadata": {},
   "outputs": [],
   "source": [
    "import contractions\n",
    "import datetime\n",
    "from textblob import TextBlob\n",
    "import operator\n",
    "from sklearn.model_selection import train_test_split\n",
    "from collections import Counter\n",
    "from pylab import plot, show, subplot, specgram, imshow, savefig\n",
    "from sklearn import metrics\n",
    "from scipy.stats import zscore\n",
    "from sklearn.model_selection import KFold \n",
    "# from tensorflow.keras.models import Sequential\n",
    "# from tensorflow.keras.layers import Dense, Activation\n",
    "\n",
    "from sklearn.metrics import mean_squared_error\n",
    "from sklearn.metrics import log_loss\n",
    "import time\n",
    "from tqdm import tqdm\n"
   ]
  },
  {
   "cell_type": "code",
   "execution_count": 5,
   "metadata": {},
   "outputs": [],
   "source": [
    "from gensim.models.wrappers import LdaMallet\n",
    "\n"
   ]
  },
  {
   "cell_type": "code",
   "execution_count": 6,
   "metadata": {},
   "outputs": [],
   "source": [
    "# Gensim\n",
    "import gensim\n",
    "import gensim.corpora as corpora\n",
    "from gensim.corpora.dictionary import Dictionary\n",
    "from gensim.utils import simple_preprocess\n",
    "from gensim.models.coherencemodel import CoherenceModel\n",
    "from gensim.models.ldamodel import LdaModel\n",
    "from sklearn.decomposition import LatentDirichletAllocation\n",
    "from sklearn.feature_extraction.text import CountVectorizer\n",
    "from gensim import corpora, models, similarities, matutils\n",
    "\n"
   ]
  },
  {
   "cell_type": "code",
   "execution_count": 7,
   "metadata": {},
   "outputs": [],
   "source": [
    "from gensim.models import ldamodel\n",
    "from gensim.test.utils import datapath\n"
   ]
  },
  {
   "cell_type": "code",
   "execution_count": 8,
   "metadata": {},
   "outputs": [],
   "source": [
    "# spacy for lemmatization\n",
    "import spacy\n",
    "nlp = spacy.load(\"en_core_web_sm\")\n",
    "import pickle\n",
    "from spacy.lang.en.stop_words import STOP_WORDS\n",
    "\n"
   ]
  },
  {
   "cell_type": "code",
   "execution_count": 9,
   "metadata": {},
   "outputs": [],
   "source": [
    "# Plotting tools\n",
    "import pyLDAvis\n",
    "import pyLDAvis.gensim  # important\n",
    "import matplotlib.pyplot as plt\n",
    "import matplotlib.colors as mcolors\n",
    "import seaborn as sns\n",
    "%matplotlib inline\n"
   ]
  },
  {
   "cell_type": "code",
   "execution_count": 10,
   "metadata": {},
   "outputs": [],
   "source": [
    "# Parallelize prediction\n",
    "import multiprocessing\n"
   ]
  },
  {
   "cell_type": "code",
   "execution_count": 15,
   "metadata": {},
   "outputs": [
    {
     "data": {
      "text/html": [
       "        <script type=\"text/javascript\">\n",
       "        window.PlotlyConfig = {MathJaxConfig: 'local'};\n",
       "        if (window.MathJax) {MathJax.Hub.Config({SVG: {font: \"STIX-Web\"}});}\n",
       "        if (typeof require !== 'undefined') {\n",
       "        require.undef(\"plotly\");\n",
       "        requirejs.config({\n",
       "            paths: {\n",
       "                'plotly': ['https://cdn.plot.ly/plotly-latest.min']\n",
       "            }\n",
       "        });\n",
       "        require(['plotly'], function(Plotly) {\n",
       "            window._Plotly = Plotly;\n",
       "        });\n",
       "        }\n",
       "        </script>\n",
       "        "
      ]
     },
     "metadata": {},
     "output_type": "display_data"
    }
   ],
   "source": [
    "import cufflinks as cf\n",
    "cf.go_offline()\n",
    "cf.set_config_file(offline=False, world_readable=True)\n"
   ]
  },
  {
   "cell_type": "code",
   "execution_count": 16,
   "metadata": {},
   "outputs": [],
   "source": [
    "import warnings\n",
    "warnings.filterwarnings(\"ignore\",category=DeprecationWarning)\n"
   ]
  },
  {
   "cell_type": "code",
   "execution_count": 17,
   "metadata": {},
   "outputs": [],
   "source": [
    "import findspark\n",
    "findspark.init()\n",
    "\n",
    "from pyspark import SparkContext, SparkConf, SQLContext\n",
    "from pyspark.sql import SparkSession\n",
    "from pyspark.sql import SQLContext\n"
   ]
  },
  {
   "cell_type": "code",
   "execution_count": 18,
   "metadata": {},
   "outputs": [],
   "source": [
    "import configparser\n",
    "import psycopg2\n"
   ]
  },
  {
   "cell_type": "code",
   "execution_count": 19,
   "metadata": {},
   "outputs": [
    {
     "name": "stderr",
     "output_type": "stream",
     "text": [
      "/anaconda3/lib/python3.7/site-packages/IPython/core/interactiveshell.py:3020: DtypeWarning:\n",
      "\n",
      "Columns (23) have mixed types. Specify dtype option on import or set low_memory=False.\n",
      "\n"
     ]
    }
   ],
   "source": [
    "post = pd.read_csv('community_post_v1.csv')\n"
   ]
  },
  {
   "cell_type": "code",
   "execution_count": 20,
   "metadata": {},
   "outputs": [
    {
     "name": "stderr",
     "output_type": "stream",
     "text": [
      "/anaconda3/lib/python3.7/site-packages/ipykernel_launcher.py:1: UserWarning:\n",
      "\n",
      "Boolean Series key will be reindexed to match DataFrame index.\n",
      "\n"
     ]
    }
   ],
   "source": [
    "post =post.loc[post['kind']=='POST'][post['written_language']=='english']\n"
   ]
  },
  {
   "cell_type": "code",
   "execution_count": 21,
   "metadata": {},
   "outputs": [
    {
     "data": {
      "text/html": [
       "<div>\n",
       "<style scoped>\n",
       "    .dataframe tbody tr th:only-of-type {\n",
       "        vertical-align: middle;\n",
       "    }\n",
       "\n",
       "    .dataframe tbody tr th {\n",
       "        vertical-align: top;\n",
       "    }\n",
       "\n",
       "    .dataframe thead th {\n",
       "        text-align: right;\n",
       "    }\n",
       "</style>\n",
       "<table border=\"1\" class=\"dataframe\">\n",
       "  <thead>\n",
       "    <tr style=\"text-align: right;\">\n",
       "      <th></th>\n",
       "      <th>id</th>\n",
       "      <th>textid</th>\n",
       "      <th>email_lang</th>\n",
       "      <th>origin_country_id</th>\n",
       "      <th>origin_city_id</th>\n",
       "      <th>origin_city_name</th>\n",
       "      <th>living_country_id</th>\n",
       "      <th>living_city_id</th>\n",
       "      <th>living_city_name</th>\n",
       "      <th>locale</th>\n",
       "      <th>...</th>\n",
       "      <th>intro</th>\n",
       "      <th>interest</th>\n",
       "      <th>author_id</th>\n",
       "      <th>create_by</th>\n",
       "      <th>create_at</th>\n",
       "      <th>author_id.1</th>\n",
       "      <th>content</th>\n",
       "      <th>kind</th>\n",
       "      <th>written_language</th>\n",
       "      <th>learning_language.1</th>\n",
       "    </tr>\n",
       "  </thead>\n",
       "  <tbody>\n",
       "    <tr>\n",
       "      <th>7</th>\n",
       "      <td>8352108.0</td>\n",
       "      <td></td>\n",
       "      <td>pt</td>\n",
       "      <td>BR</td>\n",
       "      <td>ZZ00000</td>\n",
       "      <td>NaN</td>\n",
       "      <td>BR</td>\n",
       "      <td>ZZ00000</td>\n",
       "      <td>NaN</td>\n",
       "      <td>pt</td>\n",
       "      <td>...</td>\n",
       "      <td>NaN</td>\n",
       "      <td>NaN</td>\n",
       "      <td>8352108</td>\n",
       "      <td>8352108</td>\n",
       "      <td>4/1/2021 04:58:40</td>\n",
       "      <td>8352108</td>\n",
       "      <td>I would like to find a partner to practice The...</td>\n",
       "      <td>POST</td>\n",
       "      <td>english</td>\n",
       "      <td>english</td>\n",
       "    </tr>\n",
       "    <tr>\n",
       "      <th>14</th>\n",
       "      <td>8362083.0</td>\n",
       "      <td></td>\n",
       "      <td>en-us</td>\n",
       "      <td>JP</td>\n",
       "      <td>ZZ00000</td>\n",
       "      <td>NaN</td>\n",
       "      <td>CA</td>\n",
       "      <td>CA00011</td>\n",
       "      <td>NaN</td>\n",
       "      <td>en-us</td>\n",
       "      <td>...</td>\n",
       "      <td>NaN</td>\n",
       "      <td>NaN</td>\n",
       "      <td>8362083</td>\n",
       "      <td>8362083</td>\n",
       "      <td>7/1/2021 21:00:57</td>\n",
       "      <td>8362083</td>\n",
       "      <td>Today I recommend to you one of my favorite bo...</td>\n",
       "      <td>POST</td>\n",
       "      <td>english</td>\n",
       "      <td>NaN</td>\n",
       "    </tr>\n",
       "  </tbody>\n",
       "</table>\n",
       "<p>2 rows × 24 columns</p>\n",
       "</div>"
      ],
      "text/plain": [
       "           id      textid email_lang origin_country_id origin_city_id  \\\n",
       "7   8352108.0                     pt                BR        ZZ00000   \n",
       "14  8362083.0                  en-us                JP        ZZ00000   \n",
       "\n",
       "   origin_city_name living_country_id living_city_id living_city_name locale  \\\n",
       "7               NaN                BR        ZZ00000              NaN     pt   \n",
       "14              NaN                CA        CA00011              NaN  en-us   \n",
       "\n",
       "           ...          intro interest author_id create_by          create_at  \\\n",
       "7          ...            NaN      NaN   8352108   8352108  4/1/2021 04:58:40   \n",
       "14         ...            NaN      NaN   8362083   8362083  7/1/2021 21:00:57   \n",
       "\n",
       "   author_id.1                                            content  kind  \\\n",
       "7      8352108  I would like to find a partner to practice The...  POST   \n",
       "14     8362083  Today I recommend to you one of my favorite bo...  POST   \n",
       "\n",
       "   written_language  learning_language.1  \n",
       "7           english              english  \n",
       "14          english                  NaN  \n",
       "\n",
       "[2 rows x 24 columns]"
      ]
     },
     "execution_count": 21,
     "metadata": {},
     "output_type": "execute_result"
    }
   ],
   "source": [
    "post.head(2)\n"
   ]
  },
  {
   "cell_type": "code",
   "execution_count": 22,
   "metadata": {
    "scrolled": true
   },
   "outputs": [
    {
     "name": "stdout",
     "output_type": "stream",
     "text": [
      "There are 82506 unique authors.\n",
      "There are 222 unique countries.\n",
      "There are 175660 unique posts.\n"
     ]
    }
   ],
   "source": [
    "print('There are', post['create_by'].nunique(), 'unique authors.')\n",
    "print('There are', post['living_country_id'].nunique(), 'unique countries.')\n",
    "print('There are', post['content'].nunique(),'unique posts.')\n"
   ]
  },
  {
   "cell_type": "code",
   "execution_count": 23,
   "metadata": {},
   "outputs": [
    {
     "data": {
      "text/plain": [
       "'I would like to find a partner to practice The english language. I teach Brazilian Portuguese and you teach me English. If anyone is interested leave  msg.'"
      ]
     },
     "execution_count": 23,
     "metadata": {},
     "output_type": "execute_result"
    }
   ],
   "source": [
    "count = array(post['content'])\n",
    "count[0]\n"
   ]
  },
  {
   "cell_type": "code",
   "execution_count": 24,
   "metadata": {},
   "outputs": [],
   "source": [
    "from nltk.tokenize import word_tokenize, wordpunct_tokenize, sent_tokenize\n",
    "tokens = word_tokenize(str(post['content']))\n"
   ]
  },
  {
   "cell_type": "code",
   "execution_count": 227,
   "metadata": {},
   "outputs": [
    {
     "data": {
      "text/plain": [
       "id                          4\n",
       "textid                      4\n",
       "email_lang                  4\n",
       "origin_country_id          25\n",
       "origin_city_id           7814\n",
       "origin_city_name       162776\n",
       "living_country_id          17\n",
       "living_city_id           5007\n",
       "living_city_name       162818\n",
       "locale                      4\n",
       "timezone                  757\n",
       "timezone_iana               4\n",
       "currency                    4\n",
       "learning_language       10794\n",
       "intro                   82220\n",
       "interest               114490\n",
       "author_id                   0\n",
       "create_by                   0\n",
       "create_at                   0\n",
       "author_id.1                 0\n",
       "content                     2\n",
       "kind                        0\n",
       "written_language            0\n",
       "learning_language.1     18013\n",
       "dtype: int64"
      ]
     },
     "execution_count": 227,
     "metadata": {},
     "output_type": "execute_result"
    }
   ],
   "source": [
    "post.isnull().sum()\n"
   ]
  },
  {
   "cell_type": "code",
   "execution_count": 25,
   "metadata": {},
   "outputs": [],
   "source": [
    "post=post.dropna(subset=['content'])\n",
    "post=post.dropna(subset=['living_country_id'])\n"
   ]
  },
  {
   "cell_type": "code",
   "execution_count": 54,
   "metadata": {},
   "outputs": [
    {
     "ename": "SyntaxError",
     "evalue": "invalid syntax (<ipython-input-54-b3f501e13994>, line 1)",
     "output_type": "error",
     "traceback": [
      "\u001b[0;36m  File \u001b[0;32m\"<ipython-input-54-b3f501e13994>\"\u001b[0;36m, line \u001b[0;32m1\u001b[0m\n\u001b[0;31m    country_grouped = post.groupby('living_country_id').content.nunique().filter(lambda x:(post[content].nunique)x > 6000).sort_values(ascending=False).to_frame()\u001b[0m\n\u001b[0m                                                                                                                 ^\u001b[0m\n\u001b[0;31mSyntaxError\u001b[0m\u001b[0;31m:\u001b[0m invalid syntax\n"
     ]
    }
   ],
   "source": [
    "country_grouped = post.groupby('living_country_id').content.nunique().filter(lambda x:(post[content].nunique)x > 6000).sort_values(ascending=False).to_frame()\n",
    "#country_grouped"
   ]
  },
  {
   "cell_type": "code",
   "execution_count": 26,
   "metadata": {},
   "outputs": [],
   "source": [
    "# remove non-alphabetic charactors\n",
    "def all_alpha(doc):\n",
    "    return ' '.join([w.lower() for w in doc.split() if w.isalpha()])\n",
    "post['Alpha']=post['content'].apply(all_alpha)\n"
   ]
  },
  {
   "cell_type": "code",
   "execution_count": 28,
   "metadata": {},
   "outputs": [],
   "source": [
    "# basic tokenization and expand contraction\n",
    "def expand_contraction(doc):\n",
    "    return ' '.join([contractions.fix(token) for token in doc.split()])\n",
    "\n",
    "post['ContentExpand']=post['Alpha'].apply(expand_contraction)\n"
   ]
  },
  {
   "cell_type": "code",
   "execution_count": 29,
   "metadata": {},
   "outputs": [
    {
     "name": "stdout",
     "output_type": "stream",
     "text": [
      "--- 2184.900412797928 seconds ---\n"
     ]
    }
   ],
   "source": [
    "# use this function after expand_contraction\n",
    "start_time=time.time()\n",
    "def clean_content(doc):\n",
    "    a=' '.join([re.sub(r\"[^a-zA-Z0-9]+\", ' ', token) for token in doc.split()])\n",
    "    #res = list(filter(lambda ele: re.search(\"[a-zA-Z\\s]+\", ele) is not None, test_list)) \n",
    "    return ' '.join(list(filter(str.strip, [token.text for token in nlp(a) if not (token.is_punct or token.is_stop)])))\n",
    "post['clean']=post['ContentExpand'].apply(clean_content)\n",
    "print(\"--- %s seconds ---\" % (time.time() - start_time))"
   ]
  },
  {
   "cell_type": "code",
   "execution_count": 35,
   "metadata": {},
   "outputs": [
    {
     "name": "stdout",
     "output_type": "stream",
     "text": [
      "--- 1570.455983877182 seconds ---\n"
     ]
    }
   ],
   "source": [
    "#use this function after review_clean\n",
    "start_time=time.time()\n",
    "def clean_content_lemma(word_list):\n",
    "    return ' '.join([word.lemma_ for word in nlp(word_list)])\n",
    "post['lemma']=post['clean'].apply(clean_content_lemma)\n",
    "print(\"--- %s seconds ---\" % (time.time() - start_time))\n"
   ]
  },
  {
   "cell_type": "code",
   "execution_count": 40,
   "metadata": {},
   "outputs": [],
   "source": [
    "# remove tokens with length <3\n",
    "start_time= time.time()\n",
    "def longer_words(text):\n",
    "    return ' '.join(token for token in text.split() if len(token)>2)\n",
    "    \n",
    "post['longer']= post['lemma'].apply(longer_words)"
   ]
  },
  {
   "cell_type": "code",
   "execution_count": 42,
   "metadata": {},
   "outputs": [
    {
     "data": {
      "text/plain": [
       "'like find partner practice english teach brazilian portuguese teach interested leave'"
      ]
     },
     "execution_count": 42,
     "metadata": {},
     "output_type": "execute_result"
    }
   ],
   "source": [
    "longer_array = array(post['longer'])\n",
    "longer_array[0]"
   ]
  },
  {
   "cell_type": "code",
   "execution_count": 49,
   "metadata": {},
   "outputs": [
    {
     "data": {
      "text/plain": [
       "775"
      ]
     },
     "execution_count": 49,
     "metadata": {},
     "output_type": "execute_result"
    }
   ],
   "source": [
    "#post[post['longer'].str.contains('hi')]['longer'].count()\n",
    "content_tokens = word_tokenize(str(post['content']))\n",
    "len(content_tokens)"
   ]
  },
  {
   "cell_type": "code",
   "execution_count": 53,
   "metadata": {},
   "outputs": [
    {
     "data": {
      "text/plain": [
       "498"
      ]
     },
     "execution_count": 53,
     "metadata": {},
     "output_type": "execute_result"
    }
   ],
   "source": [
    "#post[post['longer'].str.contains('hello')]['longer'].count()\n",
    "longer_tokens = word_tokenize(str(post['longer']))\n",
    "len(longer_tokens)"
   ]
  },
  {
   "cell_type": "code",
   "execution_count": 54,
   "metadata": {},
   "outputs": [],
   "source": [
    "add_words = ['hi','hello','helloo','hellooo','helloooo']\n",
    "stop_words = set(stopwords.words(\"english\"))\n",
    "stop_added = stop_words.union(add_words)\n"
   ]
  },
  {
   "cell_type": "code",
   "execution_count": 55,
   "metadata": {},
   "outputs": [],
   "source": [
    "post['add_stop'] = post['longer'].apply(lambda x: \" \".join(x for x in x.split() if x not in add_words))"
   ]
  },
  {
   "cell_type": "code",
   "execution_count": 56,
   "metadata": {},
   "outputs": [
    {
     "data": {
      "text/plain": [
       "497"
      ]
     },
     "execution_count": 56,
     "metadata": {},
     "output_type": "execute_result"
    }
   ],
   "source": [
    "added_token = word_tokenize(str(post['add_stop']))\n",
    "len(added_token)"
   ]
  },
  {
   "cell_type": "code",
   "execution_count": 57,
   "metadata": {},
   "outputs": [
    {
     "data": {
      "image/png": "[encoded data removed]",
      "text/plain": [
       "<Figure size 1440x576 with 1 Axes>"
      ]
     },
     "metadata": {
      "needs_background": "light"
     },
     "output_type": "display_data"
    }
   ],
   "source": [
    "from wordcloud import WordCloud, STOPWORDS\n",
    "wordcloudimage = WordCloud( max_words=250,\n",
    "                            font_step=2 ,\n",
    "                            max_font_size=100,\n",
    "                            stopwords=stop_added,\n",
    "                            background_color='black',\n",
    "                            width=1000,\n",
    "                            height=720\n",
    "                          ).generate(str(post['add_stop']))\n",
    " \n",
    "plt.figure(figsize=(20,8))\n",
    "plt.title('Top Key Words in Community Posts', fontsize = '30')\n",
    "plt.imshow(wordcloudimage)\n",
    "plt.axis(\"off\")\n",
    "plt.show()\n"
   ]
  },
  {
   "cell_type": "code",
   "execution_count": 58,
   "metadata": {},
   "outputs": [],
   "source": [
    "from textblob import TextBlob\n"
   ]
  },
  {
   "cell_type": "code",
   "execution_count": 59,
   "metadata": {},
   "outputs": [],
   "source": [
    "text = TextBlob(str(post['add_stop']))\n"
   ]
  },
  {
   "cell_type": "code",
   "execution_count": 60,
   "metadata": {},
   "outputs": [],
   "source": [
    "NounPhrases=text.noun_phrases\n"
   ]
  },
  {
   "cell_type": "code",
   "execution_count": 61,
   "metadata": {},
   "outputs": [],
   "source": [
    "NewNounList=[]\n",
    "for words in NounPhrases:\n",
    "    NewNounList.append(words.replace(\" \", \"_\"))\n",
    "    "
   ]
  },
  {
   "cell_type": "code",
   "execution_count": 62,
   "metadata": {},
   "outputs": [
    {
     "name": "stdout",
     "output_type": "stream",
     "text": [
      "##### Important word combinations ####\n",
      "partner_practice_english brazi_... favorite_book motivatio_... native_english_look_lesson foreign_friend_native_english_speaker_pra_... practice_english interesting_chi_... method_productiv_... italian_teacher_communication weekly_fre_... great_ceremony_lot practice_french fr_... native_high_level_l_... good_morning french_speaker practice_english practice_egyptian_arabic_persian_tea_... italian_look_partner practice_english_exc_... big_snowfall_storm_madrid_day life_ch_... chinese_native standard_mandarin_chinese_... hochiminh_city native_speaker_practi_... german_need_nativ_... conversation_english day_ritual_morning raff_coffee_salt_... native_russian_look_english_russian_conversati_... whatsapp_english_group fun_learning_language finish_english_course english_skill_ta_... old_lady capital_city_wonder english_message reinaldo_year_look new_friend_spe_... english_language_hope_benefit english_l_..._... good_video google_hangout_good_android_ph_... intreste_learning beter_... line_arabic_arabic_professor good_person_... mock_test_ielt mock_test_online_ielt_i_... study_engilsh year_... film_garbage_cinema plactice_japanese_look_english_partoner l_... wie_sagt_man_good_auf_vielen_dank_voraus filipino_speaker_language practise_english_need_partner new_year dream_embodiment mandarin_cantonese_mandarin_cantonese_nat_... english_partner_look_english_speaker impr_... language_partner_chinese_girl_college_student_... language_study langua_... guy_fluent_russian cou_... david_moyes_manu_manager_team_premier_lea_... moslem_world english_website language_... low_oil_price_good_scroll price_... spanish_language_magazine_recommendation_fairl_... easy_way verb_dificil_para_aprenderme_los need_english_language_practice_partner_body name length\n"
     ]
    }
   ],
   "source": [
    "NewNounString=' '.join(NewNounList)\n",
    "print('##### Important word combinations ####')\n",
    "print(NewNounString)\n"
   ]
  },
  {
   "cell_type": "code",
   "execution_count": 63,
   "metadata": {},
   "outputs": [
    {
     "data": {
      "image/png": "[encoded data removed]",
      "text/plain": [
       "<Figure size 1440x576 with 1 Axes>"
      ]
     },
     "metadata": {
      "needs_background": "light"
     },
     "output_type": "display_data"
    }
   ],
   "source": [
    "wordcloudimage = WordCloud( max_words=100,\n",
    "                            font_step=2 ,\n",
    "                            max_font_size=100,\n",
    "                            stopwords=stop_words,\n",
    "                            background_color='black',\n",
    "                            width=1000,\n",
    "                            height=720\n",
    "                          ).generate(NewNounString)\n",
    " \n",
    "plt.figure(figsize=(20,8))\n",
    "plt.title('Top Key Phrases in Community Posts', fontsize ='25')\n",
    "plt.imshow(wordcloudimage)\n",
    "plt.axis(\"off\")\n",
    "plt.show()\n"
   ]
  },
  {
   "cell_type": "code",
   "execution_count": 64,
   "metadata": {},
   "outputs": [],
   "source": [
    "def get_top_n_ngrams(corpus, n=None, ng=None):\n",
    "    vec = CountVectorizer(ngram_range=(ng,ng)).fit(corpus)\n",
    "    bag_of_words = vec.transform(corpus)\n",
    "    sum_words = bag_of_words.sum(axis=0) \n",
    "    words_freq = [(word, sum_words[0, idx]) for word, idx in vec.vocabulary_.items()]\n",
    "    words_freq =sorted(words_freq, key = lambda x: x[1], reverse=True)\n",
    "    return words_freq[:n]\n"
   ]
  },
  {
   "cell_type": "code",
   "execution_count": 66,
   "metadata": {},
   "outputs": [
    {
     "data": {
      "application/vnd.plotly.v1+json": {
       "config": {
        "linkText": "Export to plot.ly",
        "plotlyServerURL": "https://plot.ly",
        "showLink": true
       },
       "data": [
        {
         "marker": {
          "color": "rgba(255, 153, 51, 0.6)",
          "line": {
           "color": "rgba(255, 153, 51, 1.0)",
           "width": 1
          }
         },
         "name": "count",
         "orientation": "v",
         "text": "",
         "type": "bar",
         "x": [
          "want learn",
          "learn english",
          "practice english",
          "improve english",
          "speak english",
          "native speaker",
          "language partner",
          "want practice",
          "want improve",
          "native english",
          "english speaker",
          "help learn",
          "new new",
          "language exchange",
          "english want",
          "look english",
          "look language",
          "english help",
          "english language",
          "look partner",
          "learn language",
          "english native",
          "help improve",
          "feel free",
          "partner practice"
         ],
         "y": [
          10993,
          10167,
          9830,
          8347,
          7489,
          6612,
          6373,
          5824,
          5656,
          5516,
          4894,
          4853,
          4352,
          4052,
          4048,
          4033,
          3746,
          3594,
          3582,
          3502,
          3240,
          3224,
          3179,
          3148,
          3056
         ]
        }
       ],
       "layout": {
        "legend": {
         "bgcolor": "#F5F6F9",
         "font": {
          "color": "#4D5663"
         }
        },
        "paper_bgcolor": "#F5F6F9",
        "plot_bgcolor": "#F5F6F9",
        "template": {
         "data": {
          "bar": [
           {
            "error_x": {
             "color": "#2a3f5f"
            },
            "error_y": {
             "color": "#2a3f5f"
            },
            "marker": {
             "line": {
              "color": "#E5ECF6",
              "width": 0.5
             }
            },
            "type": "bar"
           }
          ],
          "barpolar": [
           {
            "marker": {
             "line": {
              "color": "#E5ECF6",
              "width": 0.5
             }
            },
            "type": "barpolar"
           }
          ],
          "carpet": [
           {
            "aaxis": {
             "endlinecolor": "#2a3f5f",
             "gridcolor": "white",
             "linecolor": "white",
             "minorgridcolor": "white",
             "startlinecolor": "#2a3f5f"
            },
            "baxis": {
             "endlinecolor": "#2a3f5f",
             "gridcolor": "white",
             "linecolor": "white",
             "minorgridcolor": "white",
             "startlinecolor": "#2a3f5f"
            },
            "type": "carpet"
           }
          ],
          "choropleth": [
           {
            "colorbar": {
             "outlinewidth": 0,
             "ticks": ""
            },
            "type": "choropleth"
           }
          ],
          "contour": [
           {
            "colorbar": {
             "outlinewidth": 0,
             "ticks": ""
            },
            "colorscale": [
             [
              0,
              "#0d0887"
             ],
             [
              0.1111111111111111,
              "#46039f"
             ],
             [
              0.2222222222222222,
              "#7201a8"
             ],
             [
              0.3333333333333333,
              "#9c179e"
             ],
             [
              0.4444444444444444,
              "#bd3786"
             ],
             [
              0.5555555555555556,
              "#d8576b"
             ],
             [
              0.6666666666666666,
              "#ed7953"
             ],
             [
              0.7777777777777778,
              "#fb9f3a"
             ],
             [
              0.8888888888888888,
              "#fdca26"
             ],
             [
              1,
              "#f0f921"
             ]
            ],
            "type": "contour"
           }
          ],
          "contourcarpet": [
           {
            "colorbar": {
             "outlinewidth": 0,
             "ticks": ""
            },
            "type": "contourcarpet"
           }
          ],
          "heatmap": [
           {
            "colorbar": {
             "outlinewidth": 0,
             "ticks": ""
            },
            "colorscale": [
             [
              0,
              "#0d0887"
             ],
             [
              0.1111111111111111,
              "#46039f"
             ],
             [
              0.2222222222222222,
              "#7201a8"
             ],
             [
              0.3333333333333333,
              "#9c179e"
             ],
             [
              0.4444444444444444,
              "#bd3786"
             ],
             [
              0.5555555555555556,
              "#d8576b"
             ],
             [
              0.6666666666666666,
              "#ed7953"
             ],
             [
              0.7777777777777778,
              "#fb9f3a"
             ],
             [
              0.8888888888888888,
              "#fdca26"
             ],
             [
              1,
              "#f0f921"
             ]
            ],
            "type": "heatmap"
           }
          ],
          "heatmapgl": [
           {
            "colorbar": {
             "outlinewidth": 0,
             "ticks": ""
            },
            "colorscale": [
             [
              0,
              "#0d0887"
             ],
             [
              0.1111111111111111,
              "#46039f"
             ],
             [
              0.2222222222222222,
              "#7201a8"
             ],
             [
              0.3333333333333333,
              "#9c179e"
             ],
             [
              0.4444444444444444,
              "#bd3786"
             ],
             [
              0.5555555555555556,
              "#d8576b"
             ],
             [
              0.6666666666666666,
              "#ed7953"
             ],
             [
              0.7777777777777778,
              "#fb9f3a"
             ],
             [
              0.8888888888888888,
              "#fdca26"
             ],
             [
              1,
              "#f0f921"
             ]
            ],
            "type": "heatmapgl"
           }
          ],
          "histogram": [
           {
            "marker": {
             "colorbar": {
              "outlinewidth": 0,
              "ticks": ""
             }
            },
            "type": "histogram"
           }
          ],
          "histogram2d": [
           {
            "colorbar": {
             "outlinewidth": 0,
             "ticks": ""
            },
            "colorscale": [
             [
              0,
              "#0d0887"
             ],
             [
              0.1111111111111111,
              "#46039f"
             ],
             [
              0.2222222222222222,
              "#7201a8"
             ],
             [
              0.3333333333333333,
              "#9c179e"
             ],
             [
              0.4444444444444444,
              "#bd3786"
             ],
             [
              0.5555555555555556,
              "#d8576b"
             ],
             [
              0.6666666666666666,
              "#ed7953"
             ],
             [
              0.7777777777777778,
              "#fb9f3a"
             ],
             [
              0.8888888888888888,
              "#fdca26"
             ],
             [
              1,
              "#f0f921"
             ]
            ],
            "type": "histogram2d"
           }
          ],
          "histogram2dcontour": [
           {
            "colorbar": {
             "outlinewidth": 0,
             "ticks": ""
            },
            "colorscale": [
             [
              0,
              "#0d0887"
             ],
             [
              0.1111111111111111,
              "#46039f"
             ],
             [
              0.2222222222222222,
              "#7201a8"
             ],
             [
              0.3333333333333333,
              "#9c179e"
             ],
             [
              0.4444444444444444,
              "#bd3786"
             ],
             [
              0.5555555555555556,
              "#d8576b"
             ],
             [
              0.6666666666666666,
              "#ed7953"
             ],
             [
              0.7777777777777778,
              "#fb9f3a"
             ],
             [
              0.8888888888888888,
              "#fdca26"
             ],
             [
              1,
              "#f0f921"
             ]
            ],
            "type": "histogram2dcontour"
           }
          ],
          "mesh3d": [
           {
            "colorbar": {
             "outlinewidth": 0,
             "ticks": ""
            },
            "type": "mesh3d"
           }
          ],
          "parcoords": [
           {
            "line": {
             "colorbar": {
              "outlinewidth": 0,
              "ticks": ""
             }
            },
            "type": "parcoords"
           }
          ],
          "pie": [
           {
            "automargin": true,
            "type": "pie"
           }
          ],
          "scatter": [
           {
            "marker": {
             "colorbar": {
              "outlinewidth": 0,
              "ticks": ""
             }
            },
            "type": "scatter"
           }
          ],
          "scatter3d": [
           {
            "line": {
             "colorbar": {
              "outlinewidth": 0,
              "ticks": ""
             }
            },
            "marker": {
             "colorbar": {
              "outlinewidth": 0,
              "ticks": ""
             }
            },
            "type": "scatter3d"
           }
          ],
          "scattercarpet": [
           {
            "marker": {
             "colorbar": {
              "outlinewidth": 0,
              "ticks": ""
             }
            },
            "type": "scattercarpet"
           }
          ],
          "scattergeo": [
           {
            "marker": {
             "colorbar": {
              "outlinewidth": 0,
              "ticks": ""
             }
            },
            "type": "scattergeo"
           }
          ],
          "scattergl": [
           {
            "marker": {
             "colorbar": {
              "outlinewidth": 0,
              "ticks": ""
             }
            },
            "type": "scattergl"
           }
          ],
          "scattermapbox": [
           {
            "marker": {
             "colorbar": {
              "outlinewidth": 0,
              "ticks": ""
             }
            },
            "type": "scattermapbox"
           }
          ],
          "scatterpolar": [
           {
            "marker": {
             "colorbar": {
              "outlinewidth": 0,
              "ticks": ""
             }
            },
            "type": "scatterpolar"
           }
          ],
          "scatterpolargl": [
           {
            "marker": {
             "colorbar": {
              "outlinewidth": 0,
              "ticks": ""
             }
            },
            "type": "scatterpolargl"
           }
          ],
          "scatterternary": [
           {
            "marker": {
             "colorbar": {
              "outlinewidth": 0,
              "ticks": ""
             }
            },
            "type": "scatterternary"
           }
          ],
          "surface": [
           {
            "colorbar": {
             "outlinewidth": 0,
             "ticks": ""
            },
            "colorscale": [
             [
              0,
              "#0d0887"
             ],
             [
              0.1111111111111111,
              "#46039f"
             ],
             [
              0.2222222222222222,
              "#7201a8"
             ],
             [
              0.3333333333333333,
              "#9c179e"
             ],
             [
              0.4444444444444444,
              "#bd3786"
             ],
             [
              0.5555555555555556,
              "#d8576b"
             ],
             [
              0.6666666666666666,
              "#ed7953"
             ],
             [
              0.7777777777777778,
              "#fb9f3a"
             ],
             [
              0.8888888888888888,
              "#fdca26"
             ],
             [
              1,
              "#f0f921"
             ]
            ],
            "type": "surface"
           }
          ],
          "table": [
           {
            "cells": {
             "fill": {
              "color": "#EBF0F8"
             },
             "line": {
              "color": "white"
             }
            },
            "header": {
             "fill": {
              "color": "#C8D4E3"
             },
             "line": {
              "color": "white"
             }
            },
            "type": "table"
           }
          ]
         },
         "layout": {
          "annotationdefaults": {
           "arrowcolor": "#2a3f5f",
           "arrowhead": 0,
           "arrowwidth": 1
          },
          "autotypenumbers": "strict",
          "coloraxis": {
           "colorbar": {
            "outlinewidth": 0,
            "ticks": ""
           }
          },
          "colorscale": {
           "diverging": [
            [
             0,
             "#8e0152"
            ],
            [
             0.1,
             "#c51b7d"
            ],
            [
             0.2,
             "#de77ae"
            ],
            [
             0.3,
             "#f1b6da"
            ],
            [
             0.4,
             "#fde0ef"
            ],
            [
             0.5,
             "#f7f7f7"
            ],
            [
             0.6,
             "#e6f5d0"
            ],
            [
             0.7,
             "#b8e186"
            ],
            [
             0.8,
             "#7fbc41"
            ],
            [
             0.9,
             "#4d9221"
            ],
            [
             1,
             "#276419"
            ]
           ],
           "sequential": [
            [
             0,
             "#0d0887"
            ],
            [
             0.1111111111111111,
             "#46039f"
            ],
            [
             0.2222222222222222,
             "#7201a8"
            ],
            [
             0.3333333333333333,
             "#9c179e"
            ],
            [
             0.4444444444444444,
             "#bd3786"
            ],
            [
             0.5555555555555556,
             "#d8576b"
            ],
            [
             0.6666666666666666,
             "#ed7953"
            ],
            [
             0.7777777777777778,
             "#fb9f3a"
            ],
            [
             0.8888888888888888,
             "#fdca26"
            ],
            [
             1,
             "#f0f921"
            ]
           ],
           "sequentialminus": [
            [
             0,
             "#0d0887"
            ],
            [
             0.1111111111111111,
             "#46039f"
            ],
            [
             0.2222222222222222,
             "#7201a8"
            ],
            [
             0.3333333333333333,
             "#9c179e"
            ],
            [
             0.4444444444444444,
             "#bd3786"
            ],
            [
             0.5555555555555556,
             "#d8576b"
            ],
            [
             0.6666666666666666,
             "#ed7953"
            ],
            [
             0.7777777777777778,
             "#fb9f3a"
            ],
            [
             0.8888888888888888,
             "#fdca26"
            ],
            [
             1,
             "#f0f921"
            ]
           ]
          },
          "colorway": [
           "#636efa",
           "#EF553B",
           "#00cc96",
           "#ab63fa",
           "#FFA15A",
           "#19d3f3",
           "#FF6692",
           "#B6E880",
           "#FF97FF",
           "#FECB52"
          ],
          "font": {
           "color": "#2a3f5f"
          },
          "geo": {
           "bgcolor": "white",
           "lakecolor": "white",
           "landcolor": "#E5ECF6",
           "showlakes": true,
           "showland": true,
           "subunitcolor": "white"
          },
          "hoverlabel": {
           "align": "left"
          },
          "hovermode": "closest",
          "mapbox": {
           "style": "light"
          },
          "paper_bgcolor": "white",
          "plot_bgcolor": "#E5ECF6",
          "polar": {
           "angularaxis": {
            "gridcolor": "white",
            "linecolor": "white",
            "ticks": ""
           },
           "bgcolor": "#E5ECF6",
           "radialaxis": {
            "gridcolor": "white",
            "linecolor": "white",
            "ticks": ""
           }
          },
          "scene": {
           "xaxis": {
            "backgroundcolor": "#E5ECF6",
            "gridcolor": "white",
            "gridwidth": 2,
            "linecolor": "white",
            "showbackground": true,
            "ticks": "",
            "zerolinecolor": "white"
           },
           "yaxis": {
            "backgroundcolor": "#E5ECF6",
            "gridcolor": "white",
            "gridwidth": 2,
            "linecolor": "white",
            "showbackground": true,
            "ticks": "",
            "zerolinecolor": "white"
           },
           "zaxis": {
            "backgroundcolor": "#E5ECF6",
            "gridcolor": "white",
            "gridwidth": 2,
            "linecolor": "white",
            "showbackground": true,
            "ticks": "",
            "zerolinecolor": "white"
           }
          },
          "shapedefaults": {
           "line": {
            "color": "#2a3f5f"
           }
          },
          "ternary": {
           "aaxis": {
            "gridcolor": "white",
            "linecolor": "white",
            "ticks": ""
           },
           "baxis": {
            "gridcolor": "white",
            "linecolor": "white",
            "ticks": ""
           },
           "bgcolor": "#E5ECF6",
           "caxis": {
            "gridcolor": "white",
            "linecolor": "white",
            "ticks": ""
           }
          },
          "title": {
           "x": 0.05
          },
          "xaxis": {
           "automargin": true,
           "gridcolor": "white",
           "linecolor": "white",
           "ticks": "",
           "title": {
            "standoff": 15
           },
           "zerolinecolor": "white",
           "zerolinewidth": 2
          },
          "yaxis": {
           "automargin": true,
           "gridcolor": "white",
           "linecolor": "white",
           "ticks": "",
           "title": {
            "standoff": 15
           },
           "zerolinecolor": "white",
           "zerolinewidth": 2
          }
         }
        },
        "title": {
         "font": {
          "color": "#4D5663"
         },
         "text": "Top 25 phrases (bigram) in posts after text cleaning"
        },
        "xaxis": {
         "gridcolor": "#E1E5ED",
         "linecolor": "black",
         "showgrid": true,
         "tickfont": {
          "color": "#4D5663"
         },
         "title": {
          "font": {
           "color": "#4D5663"
          },
          "text": ""
         },
         "zerolinecolor": "#E1E5ED"
        },
        "yaxis": {
         "gridcolor": "#E1E5ED",
         "linecolor": "black",
         "showgrid": true,
         "tickfont": {
          "color": "#4D5663"
         },
         "title": {
          "font": {
           "color": "#4D5663"
          },
          "text": "Count"
         },
         "zerolinecolor": "#E1E5ED"
        }
       }
      },
      "text/html": [
       "<div>                            <div id=\"bc33d764-acb0-4c40-941a-336884c8d6db\" class=\"plotly-graph-div\" style=\"height:525px; width:100%;\"></div>            <script type=\"text/javascript\">                require([\"plotly\"], function(Plotly) {                    window.PLOTLYENV=window.PLOTLYENV || {};\n",
       "                    window.PLOTLYENV.BASE_URL='https://plot.ly';                                    if (document.getElementById(\"bc33d764-acb0-4c40-941a-336884c8d6db\")) {                    Plotly.newPlot(                        \"bc33d764-acb0-4c40-941a-336884c8d6db\",                        [{\"marker\": {\"color\": \"rgba(255, 153, 51, 0.6)\", \"line\": {\"color\": \"rgba(255, 153, 51, 1.0)\", \"width\": 1}}, \"name\": \"count\", \"orientation\": \"v\", \"text\": \"\", \"type\": \"bar\", \"x\": [\"want learn\", \"learn english\", \"practice english\", \"improve english\", \"speak english\", \"native speaker\", \"language partner\", \"want practice\", \"want improve\", \"native english\", \"english speaker\", \"help learn\", \"new new\", \"language exchange\", \"english want\", \"look english\", \"look language\", \"english help\", \"english language\", \"look partner\", \"learn language\", \"english native\", \"help improve\", \"feel free\", \"partner practice\"], \"y\": [10993, 10167, 9830, 8347, 7489, 6612, 6373, 5824, 5656, 5516, 4894, 4853, 4352, 4052, 4048, 4033, 3746, 3594, 3582, 3502, 3240, 3224, 3179, 3148, 3056]}],                        {\"legend\": {\"bgcolor\": \"#F5F6F9\", \"font\": {\"color\": \"#4D5663\"}}, \"paper_bgcolor\": \"#F5F6F9\", \"plot_bgcolor\": \"#F5F6F9\", \"template\": {\"data\": {\"bar\": [{\"error_x\": {\"color\": \"#2a3f5f\"}, \"error_y\": {\"color\": \"#2a3f5f\"}, \"marker\": {\"line\": {\"color\": \"#E5ECF6\", \"width\": 0.5}}, \"type\": \"bar\"}], \"barpolar\": [{\"marker\": {\"line\": {\"color\": \"#E5ECF6\", \"width\": 0.5}}, \"type\": \"barpolar\"}], \"carpet\": [{\"aaxis\": {\"endlinecolor\": \"#2a3f5f\", \"gridcolor\": \"white\", \"linecolor\": \"white\", \"minorgridcolor\": \"white\", \"startlinecolor\": \"#2a3f5f\"}, \"baxis\": {\"endlinecolor\": \"#2a3f5f\", \"gridcolor\": \"white\", \"linecolor\": \"white\", \"minorgridcolor\": \"white\", \"startlinecolor\": \"#2a3f5f\"}, \"type\": \"carpet\"}], \"choropleth\": [{\"colorbar\": {\"outlinewidth\": 0, \"ticks\": \"\"}, \"type\": \"choropleth\"}], \"contour\": [{\"colorbar\": {\"outlinewidth\": 0, \"ticks\": \"\"}, \"colorscale\": [[0.0, \"#0d0887\"], [0.1111111111111111, \"#46039f\"], [0.2222222222222222, \"#7201a8\"], [0.3333333333333333, \"#9c179e\"], [0.4444444444444444, \"#bd3786\"], [0.5555555555555556, \"#d8576b\"], [0.6666666666666666, \"#ed7953\"], [0.7777777777777778, \"#fb9f3a\"], [0.8888888888888888, \"#fdca26\"], [1.0, \"#f0f921\"]], \"type\": \"contour\"}], \"contourcarpet\": [{\"colorbar\": {\"outlinewidth\": 0, \"ticks\": \"\"}, \"type\": \"contourcarpet\"}], \"heatmap\": [{\"colorbar\": {\"outlinewidth\": 0, \"ticks\": \"\"}, \"colorscale\": [[0.0, \"#0d0887\"], [0.1111111111111111, \"#46039f\"], [0.2222222222222222, \"#7201a8\"], [0.3333333333333333, \"#9c179e\"], [0.4444444444444444, \"#bd3786\"], [0.5555555555555556, \"#d8576b\"], [0.6666666666666666, \"#ed7953\"], [0.7777777777777778, \"#fb9f3a\"], [0.8888888888888888, \"#fdca26\"], [1.0, \"#f0f921\"]], \"type\": \"heatmap\"}], \"heatmapgl\": [{\"colorbar\": {\"outlinewidth\": 0, \"ticks\": \"\"}, \"colorscale\": [[0.0, \"#0d0887\"], [0.1111111111111111, \"#46039f\"], [0.2222222222222222, \"#7201a8\"], [0.3333333333333333, \"#9c179e\"], [0.4444444444444444, \"#bd3786\"], [0.5555555555555556, \"#d8576b\"], [0.6666666666666666, \"#ed7953\"], [0.7777777777777778, \"#fb9f3a\"], [0.8888888888888888, \"#fdca26\"], [1.0, \"#f0f921\"]], \"type\": \"heatmapgl\"}], \"histogram\": [{\"marker\": {\"colorbar\": {\"outlinewidth\": 0, \"ticks\": \"\"}}, \"type\": \"histogram\"}], \"histogram2d\": [{\"colorbar\": {\"outlinewidth\": 0, \"ticks\": \"\"}, \"colorscale\": [[0.0, \"#0d0887\"], [0.1111111111111111, \"#46039f\"], [0.2222222222222222, \"#7201a8\"], [0.3333333333333333, \"#9c179e\"], [0.4444444444444444, \"#bd3786\"], [0.5555555555555556, \"#d8576b\"], [0.6666666666666666, \"#ed7953\"], [0.7777777777777778, \"#fb9f3a\"], [0.8888888888888888, \"#fdca26\"], [1.0, \"#f0f921\"]], \"type\": \"histogram2d\"}], \"histogram2dcontour\": [{\"colorbar\": {\"outlinewidth\": 0, \"ticks\": \"\"}, \"colorscale\": [[0.0, \"#0d0887\"], [0.1111111111111111, \"#46039f\"], [0.2222222222222222, \"#7201a8\"], [0.3333333333333333, \"#9c179e\"], [0.4444444444444444, \"#bd3786\"], [0.5555555555555556, \"#d8576b\"], [0.6666666666666666, \"#ed7953\"], [0.7777777777777778, \"#fb9f3a\"], [0.8888888888888888, \"#fdca26\"], [1.0, \"#f0f921\"]], \"type\": \"histogram2dcontour\"}], \"mesh3d\": [{\"colorbar\": {\"outlinewidth\": 0, \"ticks\": \"\"}, \"type\": \"mesh3d\"}], \"parcoords\": [{\"line\": {\"colorbar\": {\"outlinewidth\": 0, \"ticks\": \"\"}}, \"type\": \"parcoords\"}], \"pie\": [{\"automargin\": true, \"type\": \"pie\"}], \"scatter\": [{\"marker\": {\"colorbar\": {\"outlinewidth\": 0, \"ticks\": \"\"}}, \"type\": \"scatter\"}], \"scatter3d\": [{\"line\": {\"colorbar\": {\"outlinewidth\": 0, \"ticks\": \"\"}}, \"marker\": {\"colorbar\": {\"outlinewidth\": 0, \"ticks\": \"\"}}, \"type\": \"scatter3d\"}], \"scattercarpet\": [{\"marker\": {\"colorbar\": {\"outlinewidth\": 0, \"ticks\": \"\"}}, \"type\": \"scattercarpet\"}], \"scattergeo\": [{\"marker\": {\"colorbar\": {\"outlinewidth\": 0, \"ticks\": \"\"}}, \"type\": \"scattergeo\"}], \"scattergl\": [{\"marker\": {\"colorbar\": {\"outlinewidth\": 0, \"ticks\": \"\"}}, \"type\": \"scattergl\"}], \"scattermapbox\": [{\"marker\": {\"colorbar\": {\"outlinewidth\": 0, \"ticks\": \"\"}}, \"type\": \"scattermapbox\"}], \"scatterpolar\": [{\"marker\": {\"colorbar\": {\"outlinewidth\": 0, \"ticks\": \"\"}}, \"type\": \"scatterpolar\"}], \"scatterpolargl\": [{\"marker\": {\"colorbar\": {\"outlinewidth\": 0, \"ticks\": \"\"}}, \"type\": \"scatterpolargl\"}], \"scatterternary\": [{\"marker\": {\"colorbar\": {\"outlinewidth\": 0, \"ticks\": \"\"}}, \"type\": \"scatterternary\"}], \"surface\": [{\"colorbar\": {\"outlinewidth\": 0, \"ticks\": \"\"}, \"colorscale\": [[0.0, \"#0d0887\"], [0.1111111111111111, \"#46039f\"], [0.2222222222222222, \"#7201a8\"], [0.3333333333333333, \"#9c179e\"], [0.4444444444444444, \"#bd3786\"], [0.5555555555555556, \"#d8576b\"], [0.6666666666666666, \"#ed7953\"], [0.7777777777777778, \"#fb9f3a\"], [0.8888888888888888, \"#fdca26\"], [1.0, \"#f0f921\"]], \"type\": \"surface\"}], \"table\": [{\"cells\": {\"fill\": {\"color\": \"#EBF0F8\"}, \"line\": {\"color\": \"white\"}}, \"header\": {\"fill\": {\"color\": \"#C8D4E3\"}, \"line\": {\"color\": \"white\"}}, \"type\": \"table\"}]}, \"layout\": {\"annotationdefaults\": {\"arrowcolor\": \"#2a3f5f\", \"arrowhead\": 0, \"arrowwidth\": 1}, \"autotypenumbers\": \"strict\", \"coloraxis\": {\"colorbar\": {\"outlinewidth\": 0, \"ticks\": \"\"}}, \"colorscale\": {\"diverging\": [[0, \"#8e0152\"], [0.1, \"#c51b7d\"], [0.2, \"#de77ae\"], [0.3, \"#f1b6da\"], [0.4, \"#fde0ef\"], [0.5, \"#f7f7f7\"], [0.6, \"#e6f5d0\"], [0.7, \"#b8e186\"], [0.8, \"#7fbc41\"], [0.9, \"#4d9221\"], [1, \"#276419\"]], \"sequential\": [[0.0, \"#0d0887\"], [0.1111111111111111, \"#46039f\"], [0.2222222222222222, \"#7201a8\"], [0.3333333333333333, \"#9c179e\"], [0.4444444444444444, \"#bd3786\"], [0.5555555555555556, \"#d8576b\"], [0.6666666666666666, \"#ed7953\"], [0.7777777777777778, \"#fb9f3a\"], [0.8888888888888888, \"#fdca26\"], [1.0, \"#f0f921\"]], \"sequentialminus\": [[0.0, \"#0d0887\"], [0.1111111111111111, \"#46039f\"], [0.2222222222222222, \"#7201a8\"], [0.3333333333333333, \"#9c179e\"], [0.4444444444444444, \"#bd3786\"], [0.5555555555555556, \"#d8576b\"], [0.6666666666666666, \"#ed7953\"], [0.7777777777777778, \"#fb9f3a\"], [0.8888888888888888, \"#fdca26\"], [1.0, \"#f0f921\"]]}, \"colorway\": [\"#636efa\", \"#EF553B\", \"#00cc96\", \"#ab63fa\", \"#FFA15A\", \"#19d3f3\", \"#FF6692\", \"#B6E880\", \"#FF97FF\", \"#FECB52\"], \"font\": {\"color\": \"#2a3f5f\"}, \"geo\": {\"bgcolor\": \"white\", \"lakecolor\": \"white\", \"landcolor\": \"#E5ECF6\", \"showlakes\": true, \"showland\": true, \"subunitcolor\": \"white\"}, \"hoverlabel\": {\"align\": \"left\"}, \"hovermode\": \"closest\", \"mapbox\": {\"style\": \"light\"}, \"paper_bgcolor\": \"white\", \"plot_bgcolor\": \"#E5ECF6\", \"polar\": {\"angularaxis\": {\"gridcolor\": \"white\", \"linecolor\": \"white\", \"ticks\": \"\"}, \"bgcolor\": \"#E5ECF6\", \"radialaxis\": {\"gridcolor\": \"white\", \"linecolor\": \"white\", \"ticks\": \"\"}}, \"scene\": {\"xaxis\": {\"backgroundcolor\": \"#E5ECF6\", \"gridcolor\": \"white\", \"gridwidth\": 2, \"linecolor\": \"white\", \"showbackground\": true, \"ticks\": \"\", \"zerolinecolor\": \"white\"}, \"yaxis\": {\"backgroundcolor\": \"#E5ECF6\", \"gridcolor\": \"white\", \"gridwidth\": 2, \"linecolor\": \"white\", \"showbackground\": true, \"ticks\": \"\", \"zerolinecolor\": \"white\"}, \"zaxis\": {\"backgroundcolor\": \"#E5ECF6\", \"gridcolor\": \"white\", \"gridwidth\": 2, \"linecolor\": \"white\", \"showbackground\": true, \"ticks\": \"\", \"zerolinecolor\": \"white\"}}, \"shapedefaults\": {\"line\": {\"color\": \"#2a3f5f\"}}, \"ternary\": {\"aaxis\": {\"gridcolor\": \"white\", \"linecolor\": \"white\", \"ticks\": \"\"}, \"baxis\": {\"gridcolor\": \"white\", \"linecolor\": \"white\", \"ticks\": \"\"}, \"bgcolor\": \"#E5ECF6\", \"caxis\": {\"gridcolor\": \"white\", \"linecolor\": \"white\", \"ticks\": \"\"}}, \"title\": {\"x\": 0.05}, \"xaxis\": {\"automargin\": true, \"gridcolor\": \"white\", \"linecolor\": \"white\", \"ticks\": \"\", \"title\": {\"standoff\": 15}, \"zerolinecolor\": \"white\", \"zerolinewidth\": 2}, \"yaxis\": {\"automargin\": true, \"gridcolor\": \"white\", \"linecolor\": \"white\", \"ticks\": \"\", \"title\": {\"standoff\": 15}, \"zerolinecolor\": \"white\", \"zerolinewidth\": 2}}}, \"title\": {\"font\": {\"color\": \"#4D5663\"}, \"text\": \"Top 25 phrases (bigram) in posts after text cleaning\"}, \"xaxis\": {\"gridcolor\": \"#E1E5ED\", \"linecolor\": \"black\", \"showgrid\": true, \"tickfont\": {\"color\": \"#4D5663\"}, \"title\": {\"font\": {\"color\": \"#4D5663\"}, \"text\": \"\"}, \"zerolinecolor\": \"#E1E5ED\"}, \"yaxis\": {\"gridcolor\": \"#E1E5ED\", \"linecolor\": \"black\", \"showgrid\": true, \"tickfont\": {\"color\": \"#4D5663\"}, \"title\": {\"font\": {\"color\": \"#4D5663\"}, \"text\": \"Count\"}, \"zerolinecolor\": \"#E1E5ED\"}},                        {\"showLink\": true, \"linkText\": \"Export to plot.ly\", \"plotlyServerURL\": \"https://plot.ly\", \"responsive\": true}                    ).then(function(){\n",
       "                            \n",
       "var gd = document.getElementById('bc33d764-acb0-4c40-941a-336884c8d6db');\n",
       "var x = new MutationObserver(function (mutations, observer) {{\n",
       "        var display = window.getComputedStyle(gd).display;\n",
       "        if (!display || display === 'none') {{\n",
       "            console.log([gd, 'removed!']);\n",
       "            Plotly.purge(gd);\n",
       "            observer.disconnect();\n",
       "        }}\n",
       "}});\n",
       "\n",
       "// Listen for the removal of the full notebook cells\n",
       "var notebookContainer = gd.closest('#notebook-container');\n",
       "if (notebookContainer) {{\n",
       "    x.observe(notebookContainer, {childList: true});\n",
       "}}\n",
       "\n",
       "// Listen for the clearing of the current output cell\n",
       "var outputEl = gd.closest('.output');\n",
       "if (outputEl) {{\n",
       "    x.observe(outputEl, {childList: true});\n",
       "}}\n",
       "\n",
       "                        })                };                });            </script>        </div>"
      ]
     },
     "metadata": {},
     "output_type": "display_data"
    }
   ],
   "source": [
    "common_words = get_top_n_ngrams(post['add_stop'], 25,2)\n",
    "    \n",
    "df1 = pd.DataFrame(common_words, columns = ['add_stop', 'count'])\n",
    "df1.groupby('add_stop').sum()['count'].sort_values(ascending=False).iplot(\n",
    "    kind='bar', yTitle='Count', linecolor='black', title='Top 25 phrases (bigram) in posts after text cleaning')\n"
   ]
  },
  {
   "cell_type": "code",
   "execution_count": 183,
   "metadata": {
    "scrolled": true
   },
   "outputs": [
    {
     "ename": "TypeError",
     "evalue": "string indices must be integers",
     "output_type": "error",
     "traceback": [
      "\u001b[0;31m---------------------------------------------------------------------------\u001b[0m",
      "\u001b[0;31mTypeError\u001b[0m                                 Traceback (most recent call last)",
      "\u001b[0;32m<ipython-input-183-2bd94d246a02>\u001b[0m in \u001b[0;36m<module>\u001b[0;34m\u001b[0m\n\u001b[0;32m----> 1\u001b[0;31m \u001b[0mcommon_words\u001b[0m \u001b[0;34m=\u001b[0m \u001b[0mget_top_n_ngrams\u001b[0m\u001b[0;34m(\u001b[0m\u001b[0mpost\u001b[0m\u001b[0;34m[\u001b[0m\u001b[0;34m'add_stop'\u001b[0m\u001b[0;34m]\u001b[0m\u001b[0;34m,\u001b[0m \u001b[0;36m25\u001b[0m\u001b[0;34m,\u001b[0m\u001b[0;36m3\u001b[0m\u001b[0;34m)\u001b[0m\u001b[0;34m\u001b[0m\u001b[0;34m\u001b[0m\u001b[0m\n\u001b[0m\u001b[1;32m      2\u001b[0m \u001b[0;34m\u001b[0m\u001b[0m\n\u001b[1;32m      3\u001b[0m \u001b[0mdf1\u001b[0m \u001b[0;34m=\u001b[0m \u001b[0mpd\u001b[0m\u001b[0;34m.\u001b[0m\u001b[0mDataFrame\u001b[0m\u001b[0;34m(\u001b[0m\u001b[0mcommon_words\u001b[0m\u001b[0;34m,\u001b[0m \u001b[0mcolumns\u001b[0m \u001b[0;34m=\u001b[0m \u001b[0;34m[\u001b[0m\u001b[0;34m'add_stop'\u001b[0m\u001b[0;34m,\u001b[0m \u001b[0;34m'count'\u001b[0m\u001b[0;34m]\u001b[0m\u001b[0;34m)\u001b[0m\u001b[0;34m\u001b[0m\u001b[0;34m\u001b[0m\u001b[0m\n\u001b[1;32m      4\u001b[0m df1.groupby('add_stop').sum()['count'].sort_values(ascending=False).iplot(\n\u001b[1;32m      5\u001b[0m     kind='bar', yTitle='Count', linecolor='black', title='Top 25 trigrams in posts after text cleaning')\n",
      "\u001b[0;31mTypeError\u001b[0m: string indices must be integers"
     ]
    }
   ],
   "source": [
    "common_words = get_top_n_ngrams(post['add_stop'], 25,3)\n",
    "    \n",
    "df1 = pd.DataFrame(common_words, columns = ['add_stop', 'count'])\n",
    "df1.groupby('add_stop').sum()['count'].sort_values(ascending=False).iplot(\n",
    "    kind='bar', yTitle='Count', linecolor='black', title='Top 25 trigrams in posts after text cleaning')"
   ]
  },
  {
   "cell_type": "code",
   "execution_count": 242,
   "metadata": {},
   "outputs": [
    {
     "name": "stdout",
     "output_type": "stream",
     "text": [
      "--- 41.134774684906006 seconds ---\n"
     ]
    }
   ],
   "source": [
    "\n",
    "start_time=time.time()\n",
    "polarity=pola.apply(lambda x:TextBlob(x).sentiment.polarity)\n",
    "print(\"--- %s seconds ---\" % (time.time() - start_time))\n"
   ]
  },
  {
   "cell_type": "code",
   "execution_count": 214,
   "metadata": {},
   "outputs": [
    {
     "name": "stdout",
     "output_type": "stream",
     "text": [
      "2 Random Posts with Highest Polarity:\n"
     ]
    },
    {
     "ename": "AttributeError",
     "evalue": "'str' object has no attribute 'iloc'",
     "output_type": "error",
     "traceback": [
      "\u001b[0;31m---------------------------------------------------------------------------\u001b[0m",
      "\u001b[0;31mAttributeError\u001b[0m                            Traceback (most recent call last)",
      "\u001b[0;32m<ipython-input-214-27d7e638763e>\u001b[0m in \u001b[0;36m<module>\u001b[0;34m\u001b[0m\n\u001b[1;32m      1\u001b[0m \u001b[0mprint\u001b[0m\u001b[0;34m(\u001b[0m\u001b[0;34m\"2 Random Posts with Highest Polarity:\"\u001b[0m\u001b[0;34m)\u001b[0m\u001b[0;34m\u001b[0m\u001b[0;34m\u001b[0m\u001b[0m\n\u001b[0;32m----> 2\u001b[0;31m \u001b[0;32mfor\u001b[0m \u001b[0mindex\u001b[0m\u001b[0;34m,\u001b[0m\u001b[0mpost\u001b[0m \u001b[0;32min\u001b[0m \u001b[0menumerate\u001b[0m\u001b[0;34m(\u001b[0m\u001b[0mpost\u001b[0m\u001b[0;34m.\u001b[0m\u001b[0miloc\u001b[0m\u001b[0;34m[\u001b[0m\u001b[0mpost\u001b[0m\u001b[0;34m.\u001b[0m\u001b[0mnlargest\u001b[0m\u001b[0;34m(\u001b[0m\u001b[0;36m2\u001b[0m\u001b[0;34m,\u001b[0m\u001b[0;34m'polariti'\u001b[0m\u001b[0;34m)\u001b[0m\u001b[0;34m.\u001b[0m\u001b[0mindex\u001b[0m\u001b[0;34m]\u001b[0m\u001b[0;34m[\u001b[0m\u001b[0;34m'add_stop'\u001b[0m\u001b[0;34m]\u001b[0m\u001b[0;34m)\u001b[0m\u001b[0;34m:\u001b[0m\u001b[0;34m\u001b[0m\u001b[0;34m\u001b[0m\u001b[0m\n\u001b[0m\u001b[1;32m      3\u001b[0m     \u001b[0mprint\u001b[0m\u001b[0;34m(\u001b[0m\u001b[0;34m'Post {}:\\n'\u001b[0m\u001b[0;34m.\u001b[0m\u001b[0mformat\u001b[0m\u001b[0;34m(\u001b[0m\u001b[0mindex\u001b[0m\u001b[0;34m+\u001b[0m\u001b[0;36m1\u001b[0m\u001b[0;34m)\u001b[0m\u001b[0;34m,\u001b[0m\u001b[0mpost\u001b[0m\u001b[0;34m)\u001b[0m\u001b[0;34m\u001b[0m\u001b[0;34m\u001b[0m\u001b[0m\n",
      "\u001b[0;31mAttributeError\u001b[0m: 'str' object has no attribute 'iloc'"
     ]
    }
   ],
   "source": [
    "print(\"2 Random Posts with Highest Polarity:\")\n",
    "for index,post in enumerate(polarity.iloc[polarity.nlargest(2,'polariti').index]['add_stop']):\n",
    "    print('Post {}:\\n'.format(index+1),post)\n",
    "    "
   ]
  },
  {
   "cell_type": "code",
   "execution_count": 70,
   "metadata": {},
   "outputs": [],
   "source": [
    "#post length\n",
    "post['Content_len']=post['add_stop'].astype(str).apply(len)\n",
    "post['Content_cnt']=post['add_stop'].apply(lambda x: len(str(x).split()))"
   ]
  },
  {
   "cell_type": "code",
   "execution_count": 71,
   "metadata": {},
   "outputs": [
    {
     "data": {
      "text/html": [
       "<div>\n",
       "<style scoped>\n",
       "    .dataframe tbody tr th:only-of-type {\n",
       "        vertical-align: middle;\n",
       "    }\n",
       "\n",
       "    .dataframe tbody tr th {\n",
       "        vertical-align: top;\n",
       "    }\n",
       "\n",
       "    .dataframe thead th {\n",
       "        text-align: right;\n",
       "    }\n",
       "</style>\n",
       "<table border=\"1\" class=\"dataframe\">\n",
       "  <thead>\n",
       "    <tr style=\"text-align: right;\">\n",
       "      <th></th>\n",
       "      <th>id</th>\n",
       "      <th>textid</th>\n",
       "      <th>email_lang</th>\n",
       "      <th>origin_country_id</th>\n",
       "      <th>origin_city_id</th>\n",
       "      <th>origin_city_name</th>\n",
       "      <th>living_country_id</th>\n",
       "      <th>living_city_id</th>\n",
       "      <th>living_city_name</th>\n",
       "      <th>locale</th>\n",
       "      <th>...</th>\n",
       "      <th>written_language</th>\n",
       "      <th>learning_language.1</th>\n",
       "      <th>Alpha</th>\n",
       "      <th>ContentExpand</th>\n",
       "      <th>clean</th>\n",
       "      <th>lemma</th>\n",
       "      <th>longer</th>\n",
       "      <th>add_stop</th>\n",
       "      <th>Content_len</th>\n",
       "      <th>Content_cnt</th>\n",
       "    </tr>\n",
       "  </thead>\n",
       "  <tbody>\n",
       "    <tr>\n",
       "      <th>7</th>\n",
       "      <td>8352108.0</td>\n",
       "      <td></td>\n",
       "      <td>pt</td>\n",
       "      <td>BR</td>\n",
       "      <td>ZZ00000</td>\n",
       "      <td>NaN</td>\n",
       "      <td>BR</td>\n",
       "      <td>ZZ00000</td>\n",
       "      <td>NaN</td>\n",
       "      <td>pt</td>\n",
       "      <td>...</td>\n",
       "      <td>english</td>\n",
       "      <td>english</td>\n",
       "      <td>i would like to find a partner to practice the...</td>\n",
       "      <td>i would like to find a partner to practice the...</td>\n",
       "      <td>like find partner practice english teach brazi...</td>\n",
       "      <td>like find partner practice english teach brazi...</td>\n",
       "      <td>like find partner practice english teach brazi...</td>\n",
       "      <td>like find partner practice english teach brazi...</td>\n",
       "      <td>84</td>\n",
       "      <td>11</td>\n",
       "    </tr>\n",
       "    <tr>\n",
       "      <th>14</th>\n",
       "      <td>8362083.0</td>\n",
       "      <td></td>\n",
       "      <td>en-us</td>\n",
       "      <td>JP</td>\n",
       "      <td>ZZ00000</td>\n",
       "      <td>NaN</td>\n",
       "      <td>CA</td>\n",
       "      <td>CA00011</td>\n",
       "      <td>NaN</td>\n",
       "      <td>en-us</td>\n",
       "      <td>...</td>\n",
       "      <td>english</td>\n",
       "      <td>NaN</td>\n",
       "      <td>today i recommend to you one of my favorite bo...</td>\n",
       "      <td>today i recommend to you one of my favorite bo...</td>\n",
       "      <td>today recommend favorite books changed motivat...</td>\n",
       "      <td>today recommend favorite book change motivatio...</td>\n",
       "      <td>today recommend favorite book change motivatio...</td>\n",
       "      <td>today recommend favorite book change motivatio...</td>\n",
       "      <td>206</td>\n",
       "      <td>29</td>\n",
       "    </tr>\n",
       "    <tr>\n",
       "      <th>15</th>\n",
       "      <td>8372987.0</td>\n",
       "      <td></td>\n",
       "      <td>en-us</td>\n",
       "      <td>NZ</td>\n",
       "      <td>NZ00001</td>\n",
       "      <td>NaN</td>\n",
       "      <td>US</td>\n",
       "      <td>US00016</td>\n",
       "      <td>NaN</td>\n",
       "      <td>en-us</td>\n",
       "      <td>...</td>\n",
       "      <td>english</td>\n",
       "      <td>NaN</td>\n",
       "      <td>i am a native english i am not looking for les...</td>\n",
       "      <td>i am a native english i am not looking for les...</td>\n",
       "      <td>native english looking lessons simply want hel...</td>\n",
       "      <td>native english look lesson simply want help le...</td>\n",
       "      <td>native english look lesson simply want help le...</td>\n",
       "      <td>native english look lesson simply want help le...</td>\n",
       "      <td>86</td>\n",
       "      <td>13</td>\n",
       "    </tr>\n",
       "  </tbody>\n",
       "</table>\n",
       "<p>3 rows × 32 columns</p>\n",
       "</div>"
      ],
      "text/plain": [
       "           id      textid email_lang origin_country_id origin_city_id  \\\n",
       "7   8352108.0                     pt                BR        ZZ00000   \n",
       "14  8362083.0                  en-us                JP        ZZ00000   \n",
       "15  8372987.0                  en-us                NZ        NZ00001   \n",
       "\n",
       "   origin_city_name living_country_id living_city_id living_city_name locale  \\\n",
       "7               NaN                BR        ZZ00000              NaN     pt   \n",
       "14              NaN                CA        CA00011              NaN  en-us   \n",
       "15              NaN                US        US00016              NaN  en-us   \n",
       "\n",
       "       ...      written_language learning_language.1  \\\n",
       "7      ...               english             english   \n",
       "14     ...               english                 NaN   \n",
       "15     ...               english                 NaN   \n",
       "\n",
       "                                                Alpha  \\\n",
       "7   i would like to find a partner to practice the...   \n",
       "14  today i recommend to you one of my favorite bo...   \n",
       "15  i am a native english i am not looking for les...   \n",
       "\n",
       "                                        ContentExpand  \\\n",
       "7   i would like to find a partner to practice the...   \n",
       "14  today i recommend to you one of my favorite bo...   \n",
       "15  i am a native english i am not looking for les...   \n",
       "\n",
       "                                                clean  \\\n",
       "7   like find partner practice english teach brazi...   \n",
       "14  today recommend favorite books changed motivat...   \n",
       "15  native english looking lessons simply want hel...   \n",
       "\n",
       "                                                lemma  \\\n",
       "7   like find partner practice english teach brazi...   \n",
       "14  today recommend favorite book change motivatio...   \n",
       "15  native english look lesson simply want help le...   \n",
       "\n",
       "                                               longer  \\\n",
       "7   like find partner practice english teach brazi...   \n",
       "14  today recommend favorite book change motivatio...   \n",
       "15  native english look lesson simply want help le...   \n",
       "\n",
       "                                             add_stop Content_len  Content_cnt  \n",
       "7   like find partner practice english teach brazi...          84           11  \n",
       "14  today recommend favorite book change motivatio...         206           29  \n",
       "15  native english look lesson simply want help le...          86           13  \n",
       "\n",
       "[3 rows x 32 columns]"
      ]
     },
     "execution_count": 71,
     "metadata": {},
     "output_type": "execute_result"
    }
   ],
   "source": [
    "post.head(3)"
   ]
  },
  {
   "cell_type": "code",
   "execution_count": 72,
   "metadata": {},
   "outputs": [],
   "source": [
    "def get_topic_words(vectorizer, lda_model, n_words):\n",
    "    keywords = np.array(vectorizer.get_feature_names())\n",
    "    topic_words = []\n",
    "    for topic_weights in lda_model.components_:\n",
    "        top_word_locs = (-topic_weights).argsort()[:n_words]\n",
    "        topic_words.append(keywords.take(top_word_locs).tolist())\n",
    "    return topic_words\n"
   ]
  },
  {
   "cell_type": "code",
   "execution_count": 73,
   "metadata": {},
   "outputs": [],
   "source": [
    "def display_topics(model, feature_names, no_top_words):\n",
    "    for topic_idx, topic in enumerate(model.components_):\n",
    "        print(\"Topic %d:\" % (topic_idx))\n",
    "        print(\" \".join([feature_names[i]\n",
    "                        for i in topic.argsort()[:-no_top_words - 1:-1]]))\n",
    "        "
   ]
  },
  {
   "cell_type": "code",
   "execution_count": 323,
   "metadata": {},
   "outputs": [],
   "source": [
    "from sklearn.feature_extraction.text import TfidfVectorizer\n",
    "from sklearn.decomposition import LatentDirichletAllocation\n",
    "topic_df=post['longer']\n",
    "tfidf_vectorizer = TfidfVectorizer(stop_words='english', use_idf=True, smooth_idf=True)\n",
    "topic_df=topic_df.values\n",
    "document_term_matrix = tfidf_vectorizer.fit_transform(topic_df)\n",
    "document_term_matrix_name=tfidf_vectorizer.get_feature_names()\n",
    "\n",
    "bow_vectorizer = CountVectorizer()\n",
    "bow_corpus = bow_vectorizer.fit_transform(topic_df)\n",
    "bow_feature_names_corpus = bow_vectorizer.get_feature_names()\n"
   ]
  },
  {
   "cell_type": "code",
   "execution_count": 324,
   "metadata": {},
   "outputs": [
    {
     "name": "stdout",
     "output_type": "stream",
     "text": [
      "\n",
      "Topic  0\n",
      "think, new, people, know, good, like, time, use, word, read\n",
      "\n",
      "Topic  1\n",
      "english, learn, want, help, language, look, speak, practice, native, improve\n",
      "\n",
      "Topic  2\n",
      "like, watch, know, country, love, movie, word, favorite, song, difference\n",
      "--- 575.7240037918091 seconds ---\n"
     ]
    }
   ],
   "source": [
    "# BOW 3 topics using the longer column\n",
    "start_time=time.time()\n",
    "no_topics = 3\n",
    "doc_topic = 0.5  # alpha > 0\n",
    "topic_word = 0.5 # beta > 0\n",
    "lda_bow_corpus = LatentDirichletAllocation(n_components=no_topics, \n",
    "                                           doc_topic_prior = doc_topic,\n",
    "                                           topic_word_prior = topic_word).fit(bow_corpus)\n",
    "no_top_words = 10\n",
    "display_topics(lda_bow_corpus, bow_feature_names_corpus, no_top_words)\n",
    "print(\"--- %s seconds ---\" % (time.time() - start_time))"
   ]
  },
  {
   "cell_type": "code",
   "execution_count": 326,
   "metadata": {},
   "outputs": [
    {
     "name": "stdout",
     "output_type": "stream",
     "text": [
      "\n",
      "Topic  0\n",
      "help, english, want, practice, need, spanish, improve, talk, like, portuguese\n",
      "\n",
      "Topic  1\n",
      "english, learn, language, want, speak, look, native, help, partner, like\n",
      "\n",
      "Topic  2\n",
      "people, think, like, time, day, know, good, love, country, life\n",
      "\n",
      "Topic  3\n",
      "new, word, know, use, like, think, write, read, good, find\n",
      "--- 675.7537009716034 seconds ---\n"
     ]
    }
   ],
   "source": [
    "# BOW 4 topics using the longer column\n",
    "start_time=time.time()\n",
    "no_topics = 4\n",
    "doc_topic = 0.5  # alpha > 0\n",
    "topic_word = 0.5 # beta > 0\n",
    "lda_bow_corpus = LatentDirichletAllocation(n_components=no_topics, \n",
    "                                           doc_topic_prior = doc_topic,\n",
    "                                           topic_word_prior = topic_word).fit(bow_corpus)\n",
    "no_top_words = 10\n",
    "display_topics(lda_bow_corpus, bow_feature_names_corpus, no_top_words)\n",
    "print(\"--- %s seconds ---\" % (time.time() - start_time))"
   ]
  },
  {
   "cell_type": "code",
   "execution_count": 74,
   "metadata": {},
   "outputs": [],
   "source": [
    "from sklearn.feature_extraction.text import TfidfVectorizer\n",
    "from sklearn.decomposition import LatentDirichletAllocation\n",
    "topic_df=post['add_stop']\n",
    "tfidf_vectorizer = TfidfVectorizer(stop_words='english', use_idf=True, smooth_idf=True)\n",
    "topic_df=topic_df.values\n",
    "document_term_matrix = tfidf_vectorizer.fit_transform(topic_df)\n",
    "document_term_matrix_name=tfidf_vectorizer.get_feature_names()\n",
    "\n",
    "bow_vectorizer = CountVectorizer()\n",
    "bow_corpus = bow_vectorizer.fit_transform(topic_df)\n",
    "bow_feature_names_corpus = bow_vectorizer.get_feature_names()\n"
   ]
  },
  {
   "cell_type": "code",
   "execution_count": 248,
   "metadata": {},
   "outputs": [
    {
     "name": "stdout",
     "output_type": "stream",
     "text": [
      "Topic 0:\n",
      "english learn want help language look speak practice native improve\n",
      "Topic 1:\n",
      "like de difference day love mean know accent use favorite\n",
      "Topic 2:\n",
      "think people know like new good time word use find\n"
     ]
    }
   ],
   "source": [
    "#bag of words using the add_stop column\n",
    "start_time=time.time()\n",
    "no_topics = 3\n",
    "doc_topic = 0.5  # alpha > 0\n",
    "topic_word = 0.5 # beta > 0\n",
    "lda_bow_corpus = LatentDirichletAllocation(n_components=no_topics, \n",
    "                                           doc_topic_prior = doc_topic,\n",
    "                                           topic_word_prior = topic_word).fit(bow_corpus)\n",
    "no_top_words = 10\n",
    "display_topics(lda_bow_corpus, bow_feature_names_corpus, no_top_words)\n",
    "print(\"--- %s seconds ---\" % (time.time() - start_time))\n"
   ]
  },
  {
   "cell_type": "code",
   "execution_count": 325,
   "metadata": {},
   "outputs": [
    {
     "name": "stdout",
     "output_type": "stream",
     "text": [
      "\n",
      "Topic  0\n",
      "like, think, know, people, new, good, word, time, use, day\n",
      "\n",
      "Topic  1\n",
      "english, learn, want, help, language, look, speak, practice, native, improve\n",
      "--- 577.6463911533356 seconds ---\n"
     ]
    }
   ],
   "source": [
    "#bow using the longer column\n",
    "start_time=time.time()\n",
    "no_topics = 2\n",
    "doc_topic = 0.5  # alpha > 0\n",
    "topic_word = 0.5 # beta > 0\n",
    "lda_bow_corpus = LatentDirichletAllocation(n_components=no_topics, \n",
    "                                           doc_topic_prior = doc_topic,\n",
    "                                           topic_word_prior = topic_word).fit(bow_corpus)\n",
    "no_top_words = 20\n",
    "display_topics(lda_bow_corpus, bow_feature_names_corpus, no_top_words)\n",
    "print(\"--- %s seconds ---\" % (time.time() - start_time))"
   ]
  },
  {
   "cell_type": "code",
   "execution_count": 249,
   "metadata": {},
   "outputs": [
    {
     "name": "stdout",
     "output_type": "stream",
     "text": [
      "Topic 0:\n",
      "new time work people good day year think teacher like\n",
      "Topic 1:\n",
      "think word like know people use mean thing tell love\n",
      "Topic 2:\n",
      "english want learn help practice speak improve look partner language\n",
      "Topic 3:\n",
      "english language native like learn look help spanish speaker speak\n",
      "--- 708.3208990097046 seconds ---\n"
     ]
    }
   ],
   "source": [
    "# bow\n",
    "start_time=time.time()\n",
    "no_topics = 4\n",
    "doc_topic = 0.5  # alpha > 0\n",
    "topic_word = 0.5 # beta > 0\n",
    "lda_bow_corpus = LatentDirichletAllocation(n_components=no_topics, \n",
    "                                           doc_topic_prior = doc_topic,\n",
    "                                           topic_word_prior = topic_word).fit(bow_corpus)\n",
    "no_top_words = 20\n",
    "display_topics(lda_bow_corpus, bow_feature_names_corpus, no_top_words)\n",
    "print(\"--- %s seconds ---\" % (time.time() - start_time))\n"
   ]
  },
  {
   "cell_type": "code",
   "execution_count": 327,
   "metadata": {},
   "outputs": [],
   "source": [
    "from sklearn.feature_extraction.text import TfidfVectorizer\n",
    "from sklearn.decomposition import LatentDirichletAllocation\n",
    "topic_df=post['longer']\n",
    "tfidf_vectorizer = TfidfVectorizer(stop_words='english', use_idf=True, smooth_idf=True)\n",
    "topic_df=topic_df.values\n",
    "document_term_matrix = tfidf_vectorizer.fit_transform(topic_df)\n",
    "document_term_matrix_name=tfidf_vectorizer.get_feature_names()\n",
    "\n",
    "bow_vectorizer = CountVectorizer()\n",
    "bow_corpus = bow_vectorizer.fit_transform(topic_df)\n",
    "bow_feature_names_corpus = bow_vectorizer.get_feature_names()"
   ]
  },
  {
   "cell_type": "code",
   "execution_count": 328,
   "metadata": {},
   "outputs": [
    {
     "name": "stdout",
     "output_type": "stream",
     "text": [
      "\n",
      "Topic  0\n",
      "english, learn, help, want, language, practice, look, speak, improve, partner, native, spanish, need, like, teach, speaker, friend, exchange, talk, interested\n",
      "\n",
      "Topic  1\n",
      "favorite, speaking, like, group, skill, skype, english, practise, song, practice, partner, favourite, test, old, oral, girl, vietnamese, voice, search, improve\n",
      "\n",
      "Topic  2\n",
      "think, know, use, people, word, good, time, like, tell, read, mean, way, work, question, new, thing, write, ask, sentence, different\n",
      "\n",
      "Topic  3\n",
      "talk, ielt, day, happy, exam, prepare, guy, wish, eat, country, beautiful, food, topic, world, want, discuss, visit, number, like, travel\n",
      "--- 368.02809882164 seconds ---\n"
     ]
    }
   ],
   "source": [
    "# tfidf using the longer column, 4 topics\n",
    "start_time=time.time()\n",
    "no_topics = 4\n",
    "doc_topic = 0.5  # alpha > 0\n",
    "topic_word = 0.5 # beta > 0\n",
    "lda_tfidf_corpus = LatentDirichletAllocation(n_components=no_topics, \n",
    "                                           doc_topic_prior = doc_topic,\n",
    "                                           topic_word_prior = topic_word).fit(document_term_matrix)\n",
    "no_top_words = 20\n",
    "display_topics(lda_tfidf_corpus, document_term_matrix_name, no_top_words)\n",
    "print(\"--- %s seconds ---\" % (time.time() - start_time))"
   ]
  },
  {
   "cell_type": "code",
   "execution_count": 329,
   "metadata": {},
   "outputs": [
    {
     "name": "stdout",
     "output_type": "stream",
     "text": [
      "\n",
      "Topic  0\n",
      "think, know, people, use, good, word, time, way, new, tell, thing, difference, question, like, mean, read, work, different, write, understand\n",
      "\n",
      "Topic  1\n",
      "like, book, favorite, day, movie, watch, song, country, love, listen, place, know, music, travel, good, recommend, year, lesson, favourite, new\n",
      "\n",
      "Topic  2\n",
      "english, want, help, learn, practice, look, language, speak, improve, partner, native, like, spanish, need, talk, teach, speaker, friend, exchange, chinese\n",
      "--- 368.7052872180939 seconds ---\n"
     ]
    }
   ],
   "source": [
    "# tfidf using the longer column, 3 topics\n",
    "start_time=time.time()\n",
    "no_topics = 3\n",
    "doc_topic = 0.5  # alpha > 0\n",
    "topic_word = 0.5 # beta > 0\n",
    "lda_tfidf_corpus = LatentDirichletAllocation(n_components=no_topics, \n",
    "                                           doc_topic_prior = doc_topic,\n",
    "                                           topic_word_prior = topic_word).fit(document_term_matrix)\n",
    "no_top_words = 20\n",
    "display_topics(lda_tfidf_corpus, document_term_matrix_name, no_top_words)\n",
    "print(\"--- %s seconds ---\" % (time.time() - start_time))"
   ]
  },
  {
   "cell_type": "code",
   "execution_count": 322,
   "metadata": {},
   "outputs": [
    {
     "name": "stdout",
     "output_type": "stream",
     "text": [
      "\n",
      "Topic  0\n",
      "english, learn, want, help, practice, look, language, speak, improve, partner, native, like, spanish, need, talk, teach, speaker, friend, exchange, chinese\n",
      "\n",
      "Topic  1\n",
      "think, know, like, good, people, use, word, time, tell, read, day, thing, mean, book, way, new, write, love, difference, country\n",
      "--- 343.13406324386597 seconds ---\n"
     ]
    }
   ],
   "source": [
    "# tfidf using the longer column, 3 topics\n",
    "start_time=time.time()\n",
    "no_topics = 2\n",
    "doc_topic = 0.5  # alpha > 0\n",
    "topic_word = 0.5 # eta > 0\n",
    "lda_tfidf_corpus = LatentDirichletAllocation(n_components=no_topics, \n",
    "                                           doc_topic_prior = doc_topic,\n",
    "                                           topic_word_prior = topic_word).fit(document_term_matrix)\n",
    "no_top_words = 20\n",
    "display_topics(lda_tfidf_corpus, document_term_matrix_name, no_top_words)\n",
    "print(\"--- %s seconds ---\" % (time.time() - start_time))"
   ]
  },
  {
   "cell_type": "code",
   "execution_count": 250,
   "metadata": {},
   "outputs": [
    {
     "name": "stdout",
     "output_type": "stream",
     "text": [
      "Topic 0:\n",
      "favorite like group country movie watch day song travel world\n",
      "Topic 1:\n",
      "think know use people word good time way read like\n",
      "Topic 2:\n",
      "english want help learn practice look language speak improve partner\n",
      "--- 349.8135721683502 seconds ---\n"
     ]
    }
   ],
   "source": [
    "#tfidf 3 topics \n",
    "start_time=time.time()\n",
    "no_topics = 3\n",
    "doc_topic = 0.5  # alpha > 0\n",
    "topic_word = 0.5 # beta > 0\n",
    "lda_tfidf_corpus = LatentDirichletAllocation(n_components=no_topics, \n",
    "                                           doc_topic_prior = doc_topic,\n",
    "                                           topic_word_prior = topic_word).fit(document_term_matrix)\n",
    "no_top_words = 10\n",
    "display_topics(lda_tfidf_corpus, document_term_matrix_name, no_top_words)\n",
    "print(\"--- %s seconds ---\" % (time.time() - start_time))"
   ]
  },
  {
   "cell_type": "code",
   "execution_count": 302,
   "metadata": {},
   "outputs": [
    {
     "data": {
      "text/plain": [
       "'like find partner practice english teach brazilian portuguese teach interested leave'"
      ]
     },
     "execution_count": 302,
     "metadata": {},
     "output_type": "execute_result"
    }
   ],
   "source": [
    "before_docs = array(post['lemma'])\n",
    "before_docs[0]"
   ]
  },
  {
   "cell_type": "code",
   "execution_count": 305,
   "metadata": {},
   "outputs": [
    {
     "data": {
      "text/plain": [
       "'like find partner practice english teach brazilian portuguese teach interested leave'"
      ]
     },
     "execution_count": 305,
     "metadata": {},
     "output_type": "execute_result"
    }
   ],
   "source": [
    "before_docs = array(post['clean'])\n",
    "before_docs[0]"
   ]
  },
  {
   "cell_type": "code",
   "execution_count": 306,
   "metadata": {},
   "outputs": [
    {
     "data": {
      "text/plain": [
       "'i would like to find a partner to practice the english i teach brazilian portuguese and you teach me if anyone is interested leave'"
      ]
     },
     "execution_count": 306,
     "metadata": {},
     "output_type": "execute_result"
    }
   ],
   "source": [
    "before_docs = array(post['ContentExpand'])\n",
    "before_docs[0]"
   ]
  },
  {
   "cell_type": "code",
   "execution_count": 307,
   "metadata": {},
   "outputs": [
    {
     "data": {
      "text/plain": [
       "'i would like to find a partner to practice the english i teach brazilian portuguese and you teach me if anyone is interested leave'"
      ]
     },
     "execution_count": 307,
     "metadata": {},
     "output_type": "execute_result"
    }
   ],
   "source": [
    "before_docs = array(post['Alpha'])\n",
    "before_docs[0]"
   ]
  },
  {
   "cell_type": "code",
   "execution_count": 303,
   "metadata": {},
   "outputs": [
    {
     "data": {
      "text/plain": [
       "'I would like to find a partner to practice The english language. I teach Brazilian Portuguese and you teach me English. If anyone is interested leave  msg.'"
      ]
     },
     "execution_count": 303,
     "metadata": {},
     "output_type": "execute_result"
    }
   ],
   "source": [
    "before_docs = array(post['content'])\n",
    "before_docs[0]"
   ]
  },
  {
   "cell_type": "code",
   "execution_count": 304,
   "metadata": {},
   "outputs": [
    {
     "data": {
      "text/html": [
       "<div>\n",
       "<style scoped>\n",
       "    .dataframe tbody tr th:only-of-type {\n",
       "        vertical-align: middle;\n",
       "    }\n",
       "\n",
       "    .dataframe tbody tr th {\n",
       "        vertical-align: top;\n",
       "    }\n",
       "\n",
       "    .dataframe thead th {\n",
       "        text-align: right;\n",
       "    }\n",
       "</style>\n",
       "<table border=\"1\" class=\"dataframe\">\n",
       "  <thead>\n",
       "    <tr style=\"text-align: right;\">\n",
       "      <th></th>\n",
       "      <th>id</th>\n",
       "      <th>textid</th>\n",
       "      <th>email_lang</th>\n",
       "      <th>origin_country_id</th>\n",
       "      <th>origin_city_id</th>\n",
       "      <th>origin_city_name</th>\n",
       "      <th>living_country_id</th>\n",
       "      <th>living_city_id</th>\n",
       "      <th>living_city_name</th>\n",
       "      <th>locale</th>\n",
       "      <th>...</th>\n",
       "      <th>author_id.1</th>\n",
       "      <th>content</th>\n",
       "      <th>kind</th>\n",
       "      <th>written_language</th>\n",
       "      <th>learning_language.1</th>\n",
       "      <th>Alpha</th>\n",
       "      <th>ContentExpand</th>\n",
       "      <th>clean</th>\n",
       "      <th>lemma</th>\n",
       "      <th>add_stop</th>\n",
       "    </tr>\n",
       "  </thead>\n",
       "  <tbody>\n",
       "    <tr>\n",
       "      <th>7</th>\n",
       "      <td>8352108.0</td>\n",
       "      <td></td>\n",
       "      <td>pt</td>\n",
       "      <td>BR</td>\n",
       "      <td>ZZ00000</td>\n",
       "      <td>NaN</td>\n",
       "      <td>BR</td>\n",
       "      <td>ZZ00000</td>\n",
       "      <td>NaN</td>\n",
       "      <td>pt</td>\n",
       "      <td>...</td>\n",
       "      <td>8352108</td>\n",
       "      <td>I would like to find a partner to practice The...</td>\n",
       "      <td>POST</td>\n",
       "      <td>english</td>\n",
       "      <td>english</td>\n",
       "      <td>i would like to find a partner to practice the...</td>\n",
       "      <td>i would like to find a partner to practice the...</td>\n",
       "      <td>like find partner practice english teach brazi...</td>\n",
       "      <td>like find partner practice english teach brazi...</td>\n",
       "      <td>like find partner practice english teach brazi...</td>\n",
       "    </tr>\n",
       "    <tr>\n",
       "      <th>14</th>\n",
       "      <td>8362083.0</td>\n",
       "      <td></td>\n",
       "      <td>en-us</td>\n",
       "      <td>JP</td>\n",
       "      <td>ZZ00000</td>\n",
       "      <td>NaN</td>\n",
       "      <td>CA</td>\n",
       "      <td>CA00011</td>\n",
       "      <td>NaN</td>\n",
       "      <td>en-us</td>\n",
       "      <td>...</td>\n",
       "      <td>8362083</td>\n",
       "      <td>Today I recommend to you one of my favorite bo...</td>\n",
       "      <td>POST</td>\n",
       "      <td>english</td>\n",
       "      <td>NaN</td>\n",
       "      <td>today i recommend to you one of my favorite bo...</td>\n",
       "      <td>today i recommend to you one of my favorite bo...</td>\n",
       "      <td>today recommend favorite books changed motivat...</td>\n",
       "      <td>today recommend favorite book change motivatio...</td>\n",
       "      <td>today recommend favorite book change motivatio...</td>\n",
       "    </tr>\n",
       "    <tr>\n",
       "      <th>15</th>\n",
       "      <td>8372987.0</td>\n",
       "      <td></td>\n",
       "      <td>en-us</td>\n",
       "      <td>NZ</td>\n",
       "      <td>NZ00001</td>\n",
       "      <td>NaN</td>\n",
       "      <td>US</td>\n",
       "      <td>US00016</td>\n",
       "      <td>NaN</td>\n",
       "      <td>en-us</td>\n",
       "      <td>...</td>\n",
       "      <td>8372987</td>\n",
       "      <td>hullo! i am a native english speaker. i am not...</td>\n",
       "      <td>POST</td>\n",
       "      <td>english</td>\n",
       "      <td>NaN</td>\n",
       "      <td>i am a native english i am not looking for les...</td>\n",
       "      <td>i am a native english i am not looking for les...</td>\n",
       "      <td>native english looking lessons simply want hel...</td>\n",
       "      <td>native english look lesson simply want help le...</td>\n",
       "      <td>native english look lesson simply want help le...</td>\n",
       "    </tr>\n",
       "    <tr>\n",
       "      <th>20</th>\n",
       "      <td>8381115.0</td>\n",
       "      <td></td>\n",
       "      <td>en-us</td>\n",
       "      <td>GB</td>\n",
       "      <td>ZZ00000</td>\n",
       "      <td>NaN</td>\n",
       "      <td>GB</td>\n",
       "      <td>ZZ00000</td>\n",
       "      <td>NaN</td>\n",
       "      <td>en-us</td>\n",
       "      <td>...</td>\n",
       "      <td>8381115</td>\n",
       "      <td>hi everyone  I'm looking for a foreign friend ...</td>\n",
       "      <td>POST</td>\n",
       "      <td>english</td>\n",
       "      <td>NaN</td>\n",
       "      <td>hi everyone looking for a foreign friend that ...</td>\n",
       "      <td>hi everyone looking for a foreign friend that ...</td>\n",
       "      <td>hi looking foreign friend native english speak...</td>\n",
       "      <td>hi look foreign friend native english speaker ...</td>\n",
       "      <td>look foreign friend native english speaker pra...</td>\n",
       "    </tr>\n",
       "    <tr>\n",
       "      <th>44</th>\n",
       "      <td>8157497.0</td>\n",
       "      <td></td>\n",
       "      <td>zh-tw</td>\n",
       "      <td>CN</td>\n",
       "      <td>ZZ00000</td>\n",
       "      <td>NaN</td>\n",
       "      <td>CN</td>\n",
       "      <td>CN00011</td>\n",
       "      <td>NaN</td>\n",
       "      <td>zh-tw</td>\n",
       "      <td>...</td>\n",
       "      <td>8157497</td>\n",
       "      <td>I’m looking for somebody to practice English s...</td>\n",
       "      <td>POST</td>\n",
       "      <td>english</td>\n",
       "      <td>NaN</td>\n",
       "      <td>looking for somebody to practice english if yo...</td>\n",
       "      <td>looking for somebody to practice english if yo...</td>\n",
       "      <td>looking somebody practice english interesting ...</td>\n",
       "      <td>look somebody practice english interesting chi...</td>\n",
       "      <td>look somebody practice english interesting chi...</td>\n",
       "    </tr>\n",
       "  </tbody>\n",
       "</table>\n",
       "<p>5 rows × 29 columns</p>\n",
       "</div>"
      ],
      "text/plain": [
       "           id      textid email_lang origin_country_id origin_city_id  \\\n",
       "7   8352108.0                     pt                BR        ZZ00000   \n",
       "14  8362083.0                  en-us                JP        ZZ00000   \n",
       "15  8372987.0                  en-us                NZ        NZ00001   \n",
       "20  8381115.0                  en-us                GB        ZZ00000   \n",
       "44  8157497.0                  zh-tw                CN        ZZ00000   \n",
       "\n",
       "   origin_city_name living_country_id living_city_id living_city_name locale  \\\n",
       "7               NaN                BR        ZZ00000              NaN     pt   \n",
       "14              NaN                CA        CA00011              NaN  en-us   \n",
       "15              NaN                US        US00016              NaN  en-us   \n",
       "20              NaN                GB        ZZ00000              NaN  en-us   \n",
       "44              NaN                CN        CN00011              NaN  zh-tw   \n",
       "\n",
       "                          ...                         author_id.1  \\\n",
       "7                         ...                             8352108   \n",
       "14                        ...                             8362083   \n",
       "15                        ...                             8372987   \n",
       "20                        ...                             8381115   \n",
       "44                        ...                             8157497   \n",
       "\n",
       "                                              content  kind written_language  \\\n",
       "7   I would like to find a partner to practice The...  POST          english   \n",
       "14  Today I recommend to you one of my favorite bo...  POST          english   \n",
       "15  hullo! i am a native english speaker. i am not...  POST          english   \n",
       "20  hi everyone  I'm looking for a foreign friend ...  POST          english   \n",
       "44  I’m looking for somebody to practice English s...  POST          english   \n",
       "\n",
       "   learning_language.1                                              Alpha  \\\n",
       "7              english  i would like to find a partner to practice the...   \n",
       "14                 NaN  today i recommend to you one of my favorite bo...   \n",
       "15                 NaN  i am a native english i am not looking for les...   \n",
       "20                 NaN  hi everyone looking for a foreign friend that ...   \n",
       "44                 NaN  looking for somebody to practice english if yo...   \n",
       "\n",
       "                                        ContentExpand  \\\n",
       "7   i would like to find a partner to practice the...   \n",
       "14  today i recommend to you one of my favorite bo...   \n",
       "15  i am a native english i am not looking for les...   \n",
       "20  hi everyone looking for a foreign friend that ...   \n",
       "44  looking for somebody to practice english if yo...   \n",
       "\n",
       "                                                clean  \\\n",
       "7   like find partner practice english teach brazi...   \n",
       "14  today recommend favorite books changed motivat...   \n",
       "15  native english looking lessons simply want hel...   \n",
       "20  hi looking foreign friend native english speak...   \n",
       "44  looking somebody practice english interesting ...   \n",
       "\n",
       "                                                lemma  \\\n",
       "7   like find partner practice english teach brazi...   \n",
       "14  today recommend favorite book change motivatio...   \n",
       "15  native english look lesson simply want help le...   \n",
       "20  hi look foreign friend native english speaker ...   \n",
       "44  look somebody practice english interesting chi...   \n",
       "\n",
       "                                             add_stop  \n",
       "7   like find partner practice english teach brazi...  \n",
       "14  today recommend favorite book change motivatio...  \n",
       "15  native english look lesson simply want help le...  \n",
       "20  look foreign friend native english speaker pra...  \n",
       "44  look somebody practice english interesting chi...  \n",
       "\n",
       "[5 rows x 29 columns]"
      ]
     },
     "execution_count": 304,
     "metadata": {},
     "output_type": "execute_result"
    }
   ],
   "source": [
    "post.head()"
   ]
  },
  {
   "cell_type": "code",
   "execution_count": 355,
   "metadata": {},
   "outputs": [
    {
     "data": {
      "text/plain": [
       "'like find partner practice english teach brazilian portuguese teach interested leave'"
      ]
     },
     "execution_count": 355,
     "metadata": {},
     "output_type": "execute_result"
    }
   ],
   "source": [
    "docs=array(post['longer'])\n",
    "docs[0]"
   ]
  },
  {
   "cell_type": "code",
   "execution_count": 347,
   "metadata": {},
   "outputs": [
    {
     "data": {
      "text/plain": [
       "array(['like find partner practice english teach brazilian portuguese teach interested leave',\n",
       "       'today recommend favorite book change motivation high achiever set win read concerned lose motivation study english think need motivation motivation sugar rush wait work find motivation favorite book summary',\n",
       "       'native english look lesson simply want help learn fluent spanish definitely hold happy',\n",
       "       ...,\n",
       "       'spanish language magazine recommendation fairly proficient spanish speaker look resource practice like find magazine content interesting virtue enjoy read like read news hard time find interesting magazine content criterion specific like find magazine original content spanish vein new yorker interesting article interested lifestyle magazine magazine narrow focus magazine film science basically look equivalent new love recommendation thank',\n",
       "       'easy way learn verb dificil para aprenderme los',\n",
       "       'need english language practice partner body interest leave massage catch soon thank'],\n",
       "      dtype=object)"
      ]
     },
     "execution_count": 347,
     "metadata": {},
     "output_type": "execute_result"
    }
   ],
   "source": [
    "docs"
   ]
  },
  {
   "cell_type": "code",
   "execution_count": 345,
   "metadata": {},
   "outputs": [
    {
     "data": {
      "text/plain": [
       "'look foreign friend native english speaker practice improve speak turkish second language persian native help learn one'"
      ]
     },
     "execution_count": 345,
     "metadata": {},
     "output_type": "execute_result"
    }
   ],
   "source": [
    "id2word = corpora.Dictionary()"
   ]
  },
  {
   "cell_type": "code",
   "execution_count": 331,
   "metadata": {},
   "outputs": [],
   "source": [
    "tokenizer = RegexpTokenizer(r'\\w+')\n",
    "for idx in range(len(docs)):\n",
    "        docs[idx] = tokenizer.tokenize(docs[idx])\n",
    "        "
   ]
  },
  {
   "cell_type": "code",
   "execution_count": 346,
   "metadata": {},
   "outputs": [
    {
     "ename": "TypeError",
     "evalue": "doc2bow expects an array of unicode tokens on input, not a single string",
     "output_type": "error",
     "traceback": [
      "\u001b[0;31m---------------------------------------------------------------------------\u001b[0m",
      "\u001b[0;31mTypeError\u001b[0m                                 Traceback (most recent call last)",
      "\u001b[0;32m<ipython-input-346-8f6d394f01fa>\u001b[0m in \u001b[0;36m<module>\u001b[0;34m\u001b[0m\n\u001b[0;32m----> 1\u001b[0;31m \u001b[0mdictionary\u001b[0m \u001b[0;34m=\u001b[0m \u001b[0mDictionary\u001b[0m\u001b[0;34m(\u001b[0m\u001b[0mdocs\u001b[0m\u001b[0;34m)\u001b[0m\u001b[0;34m\u001b[0m\u001b[0;34m\u001b[0m\u001b[0m\n\u001b[0m\u001b[1;32m      2\u001b[0m \u001b[0mdictionary\u001b[0m\u001b[0;34m\u001b[0m\u001b[0;34m\u001b[0m\u001b[0m\n",
      "\u001b[0;32m/anaconda3/lib/python3.7/site-packages/gensim/corpora/dictionary.py\u001b[0m in \u001b[0;36m__init__\u001b[0;34m(self, documents, prune_at)\u001b[0m\n\u001b[1;32m     89\u001b[0m \u001b[0;34m\u001b[0m\u001b[0m\n\u001b[1;32m     90\u001b[0m         \u001b[0;32mif\u001b[0m \u001b[0mdocuments\u001b[0m \u001b[0;32mis\u001b[0m \u001b[0;32mnot\u001b[0m \u001b[0;32mNone\u001b[0m\u001b[0;34m:\u001b[0m\u001b[0;34m\u001b[0m\u001b[0;34m\u001b[0m\u001b[0m\n\u001b[0;32m---> 91\u001b[0;31m             \u001b[0mself\u001b[0m\u001b[0;34m.\u001b[0m\u001b[0madd_documents\u001b[0m\u001b[0;34m(\u001b[0m\u001b[0mdocuments\u001b[0m\u001b[0;34m,\u001b[0m \u001b[0mprune_at\u001b[0m\u001b[0;34m=\u001b[0m\u001b[0mprune_at\u001b[0m\u001b[0;34m)\u001b[0m\u001b[0;34m\u001b[0m\u001b[0;34m\u001b[0m\u001b[0m\n\u001b[0m\u001b[1;32m     92\u001b[0m \u001b[0;34m\u001b[0m\u001b[0m\n\u001b[1;32m     93\u001b[0m     \u001b[0;32mdef\u001b[0m \u001b[0m__getitem__\u001b[0m\u001b[0;34m(\u001b[0m\u001b[0mself\u001b[0m\u001b[0;34m,\u001b[0m \u001b[0mtokenid\u001b[0m\u001b[0;34m)\u001b[0m\u001b[0;34m:\u001b[0m\u001b[0;34m\u001b[0m\u001b[0;34m\u001b[0m\u001b[0m\n",
      "\u001b[0;32m/anaconda3/lib/python3.7/site-packages/gensim/corpora/dictionary.py\u001b[0m in \u001b[0;36madd_documents\u001b[0;34m(self, documents, prune_at)\u001b[0m\n\u001b[1;32m    210\u001b[0m \u001b[0;34m\u001b[0m\u001b[0m\n\u001b[1;32m    211\u001b[0m             \u001b[0;31m# update Dictionary with the document\u001b[0m\u001b[0;34m\u001b[0m\u001b[0;34m\u001b[0m\u001b[0;34m\u001b[0m\u001b[0m\n\u001b[0;32m--> 212\u001b[0;31m             \u001b[0mself\u001b[0m\u001b[0;34m.\u001b[0m\u001b[0mdoc2bow\u001b[0m\u001b[0;34m(\u001b[0m\u001b[0mdocument\u001b[0m\u001b[0;34m,\u001b[0m \u001b[0mallow_update\u001b[0m\u001b[0;34m=\u001b[0m\u001b[0;32mTrue\u001b[0m\u001b[0;34m)\u001b[0m  \u001b[0;31m# ignore the result, here we only care about updating token ids\u001b[0m\u001b[0;34m\u001b[0m\u001b[0;34m\u001b[0m\u001b[0m\n\u001b[0m\u001b[1;32m    213\u001b[0m \u001b[0;34m\u001b[0m\u001b[0m\n\u001b[1;32m    214\u001b[0m         logger.info(\n",
      "\u001b[0;32m/anaconda3/lib/python3.7/site-packages/gensim/corpora/dictionary.py\u001b[0m in \u001b[0;36mdoc2bow\u001b[0;34m(self, document, allow_update, return_missing)\u001b[0m\n\u001b[1;32m    250\u001b[0m         \"\"\"\n\u001b[1;32m    251\u001b[0m         \u001b[0;32mif\u001b[0m \u001b[0misinstance\u001b[0m\u001b[0;34m(\u001b[0m\u001b[0mdocument\u001b[0m\u001b[0;34m,\u001b[0m \u001b[0mstring_types\u001b[0m\u001b[0;34m)\u001b[0m\u001b[0;34m:\u001b[0m\u001b[0;34m\u001b[0m\u001b[0;34m\u001b[0m\u001b[0m\n\u001b[0;32m--> 252\u001b[0;31m             \u001b[0;32mraise\u001b[0m \u001b[0mTypeError\u001b[0m\u001b[0;34m(\u001b[0m\u001b[0;34m\"doc2bow expects an array of unicode tokens on input, not a single string\"\u001b[0m\u001b[0;34m)\u001b[0m\u001b[0;34m\u001b[0m\u001b[0;34m\u001b[0m\u001b[0m\n\u001b[0m\u001b[1;32m    253\u001b[0m \u001b[0;34m\u001b[0m\u001b[0m\n\u001b[1;32m    254\u001b[0m         \u001b[0;31m# Construct (word, frequency) mapping.\u001b[0m\u001b[0;34m\u001b[0m\u001b[0;34m\u001b[0m\u001b[0;34m\u001b[0m\u001b[0m\n",
      "\u001b[0;31mTypeError\u001b[0m: doc2bow expects an array of unicode tokens on input, not a single string"
     ]
    }
   ],
   "source": [
    "dictionary = Dictionary(docs)\n",
    "dictionary"
   ]
  },
  {
   "cell_type": "code",
   "execution_count": 333,
   "metadata": {},
   "outputs": [
    {
     "name": "stdout",
     "output_type": "stream",
     "text": [
      "Number of unique tokens: 9804\n",
      "Number of documents: 178353\n",
      "[[(0, 1), (1, 1), (2, 1), (3, 1), (4, 1), (5, 1), (6, 1), (7, 1), (8, 2)]]\n"
     ]
    }
   ],
   "source": [
    "dictionary.filter_extremes(no_below=10, no_above=0.2)\n",
    "#filter out tokens that appear in less than 10 docs, more than 0.2 docs\n",
    "#Create dictionary and corpus required for Topic Modeling\n",
    "corpus = [dictionary.doc2bow(doc) for doc in docs]\n",
    "\n",
    "print('Number of unique tokens: %d' % len(dictionary))\n",
    "print('Number of documents: %d' % len(corpus))\n",
    "print(corpus[:1])\n"
   ]
  },
  {
   "cell_type": "code",
   "execution_count": 334,
   "metadata": {},
   "outputs": [],
   "source": [
    "def compute_coherence_values(dictionary, corpus, texts, limit, start, step):\n",
    "    \"\"\"\n",
    "    Compute c_v coherence for various number of topics\n",
    "\n",
    "    Parameters:\n",
    "    ----------\n",
    "    dictionary : Gensim dictionary\n",
    "    corpus : Gensim corpus\n",
    "    texts : List of input texts\n",
    "    limit : Max num of topics\n",
    "\n",
    "    Returns:\n",
    "    -------\n",
    "    model_list : List of LDA topic models\n",
    "    coherence_values : Coherence values corresponding to the LDA model with respective number of topics\n",
    "    \"\"\"\n",
    "    coherence_values = []\n",
    "    model_list = []\n",
    "    for num_topics in range(start, limit, step):\n",
    "        model=LdaModel(corpus=corpus, id2word=dictionary, num_topics=num_topics)\n",
    "        model_list.append(model)\n",
    "        coherencemodel = CoherenceModel(model=model, texts=texts, dictionary=dictionary, coherence='c_v')\n",
    "        coherence_values.append(coherencemodel.get_coherence())\n",
    "\n",
    "    return model_list, coherence_values"
   ]
  },
  {
   "cell_type": "code",
   "execution_count": 335,
   "metadata": {},
   "outputs": [
    {
     "name": "stdout",
     "output_type": "stream",
     "text": [
      "--- 366.42395091056824 seconds ---\n"
     ]
    }
   ],
   "source": [
    "start_time=time.time()\n",
    "limit = 8\n",
    "start = 2\n",
    "step = 1\n",
    "model_list, coherence_values = compute_coherence_values(dictionary=dictionary, \n",
    "                                                        corpus=corpus, \n",
    "                                                        texts=docs, \n",
    "                                                        start=start, \n",
    "                                                        limit=limit,\n",
    "                                                        step=step)\n",
    "print(\"--- %s seconds ---\" % (time.time() - start_time))\n"
   ]
  },
  {
   "cell_type": "code",
   "execution_count": 337,
   "metadata": {},
   "outputs": [
    {
     "data": {
      "image/png": "[encoded data removed]",
      "text/plain": [
       "<Figure size 432x288 with 1 Axes>"
      ]
     },
     "metadata": {
      "needs_background": "light"
     },
     "output_type": "display_data"
    }
   ],
   "source": [
    "# Show graph\n",
    "x = range(start, limit, step)\n",
    "plt.title(\"Number of Topics and Corresponding Coherence Value\", fontsize = 15)\n",
    "plt.plot(x, coherence_values)\n",
    "plt.xlabel(\"Number of Topics\")\n",
    "plt.ylabel(\"Coherence score\")\n",
    "plt.legend((\"coherence_values\"), loc='best')\n",
    "plt.show()\n"
   ]
  },
  {
   "cell_type": "code",
   "execution_count": 338,
   "metadata": {},
   "outputs": [
    {
     "name": "stdout",
     "output_type": "stream",
     "text": [
      "Num Topics = 2  has Coherence Value of 0.6072725\n",
      "Num Topics = 3  has Coherence Value of 0.5507233\n",
      "Num Topics = 4  has Coherence Value of 0.6081838\n",
      "Num Topics = 5  has Coherence Value of 0.6137566\n",
      "Num Topics = 6  has Coherence Value of 0.6314735\n",
      "Num Topics = 7  has Coherence Value of 0.5877241\n"
     ]
    }
   ],
   "source": [
    "# Print the coherence scores\n",
    "for m, cv in zip(x, coherence_values):\n",
    "    print(\"Num Topics =\", m, \" has Coherence Value of\", round(cv, 7))\n",
    "    "
   ]
  },
  {
   "cell_type": "code",
   "execution_count": 339,
   "metadata": {},
   "outputs": [
    {
     "name": "stdout",
     "output_type": "stream",
     "text": [
      "[(2,\n",
      "  [('like', 0.03004139),\n",
      "   ('watch', 0.018542325),\n",
      "   ('book', 0.016790278),\n",
      "   ('good', 0.013342365),\n",
      "   ('movie', 0.011727645),\n",
      "   ('favorite', 0.011346213),\n",
      "   ('read', 0.010993872),\n",
      "   ('listen', 0.009997066),\n",
      "   ('song', 0.009234976),\n",
      "   ('ielt', 0.008901793)]),\n",
      " (3,\n",
      "  [('language', 0.048785094),\n",
      "   ('look', 0.047600694),\n",
      "   ('speak', 0.04592337),\n",
      "   ('practice', 0.042631377),\n",
      "   ('native', 0.036470152),\n",
      "   ('improve', 0.03421832),\n",
      "   ('partner', 0.029109167),\n",
      "   ('like', 0.02630811),\n",
      "   ('speaker', 0.023290234),\n",
      "   ('spanish', 0.021135483)])]\n"
     ]
    }
   ],
   "source": [
    "optimal_model = model_list[2]\n",
    "pprint(optimal_model.show_topics(formatted=False, num_topics=2))\n"
   ]
  },
  {
   "cell_type": "code",
   "execution_count": 340,
   "metadata": {},
   "outputs": [],
   "source": [
    "#vectorizer: count_vectorizer, TFIDF\n",
    "#In this case, we want to use count_vectorizer since TFIDF penalize the most\n",
    "#frequent words but in this case those frequent words like help, stress might \n",
    "#be very important to help us understand the effectiveness of the food\n",
    "\n",
    "#add n-gram\n",
    "#you can try different n-gram to see which method makes sense\n",
    "\n",
    "\n",
    "#max frequency: a word that shows up max_df of the time will be left out\n",
    "#min frenquency: a word that shows up less than min_df times will be left out\n",
    "\n",
    "cv = CountVectorizer(ngram_range = (2,3), min_df = 5, max_df=0.5,stop_words=stop_added)\n",
    "data_cv = cv.fit_transform(post.add_stop)\n"
   ]
  },
  {
   "cell_type": "code",
   "execution_count": 284,
   "metadata": {},
   "outputs": [],
   "source": [
    "def display_topics(model, feature_names, no_top_words, topic_names=None):\n",
    "    for ix, topic in enumerate(model.components_):\n",
    "        if not topic_names or not topic_names[ix]:\n",
    "            print(\"\\nTopic \", ix)\n",
    "        else:\n",
    "            print(\"\\nTopic: '\",topic_names[ix],\"'\")\n",
    "        print(\", \".join([feature_names[i]\n",
    "                        for i in topic.argsort()[:-no_top_words - 1:-1]]))\n",
    "        "
   ]
  },
  {
   "cell_type": "code",
   "execution_count": 341,
   "metadata": {},
   "outputs": [],
   "source": [
    "from sklearn.decomposition import NMF\n",
    "\n",
    "nmf = NMF(3)\n",
    "cv_topic_nmf = nmf.fit_transform(data_cv)\n"
   ]
  },
  {
   "cell_type": "code",
   "execution_count": 342,
   "metadata": {
    "scrolled": false
   },
   "outputs": [
    {
     "name": "stdout",
     "output_type": "stream",
     "text": [
      "\n",
      "Topic  0\n",
      "new new, new new new, medium medium, medium medium medium, new study, new new study, word new\n",
      "\n",
      "Topic  1\n",
      "time new, new time, new time new, new love, new change, easy time, like time\n",
      "\n",
      "Topic  2\n",
      "accent grid, grid accent, accent list, accent list accent, list accent, accent grid accent, shade accent\n"
     ]
    }
   ],
   "source": [
    "display_topics(nmf, cv.get_feature_names(), 7)\n"
   ]
  },
  {
   "cell_type": "code",
   "execution_count": 293,
   "metadata": {},
   "outputs": [],
   "source": [
    "post.to_pickle(\"./clean_post.pkl\")\n"
   ]
  },
  {
   "cell_type": "code",
   "execution_count": 294,
   "metadata": {},
   "outputs": [],
   "source": [
    "post = pd.read_pickle(\"./clean_post.pkl\")\n"
   ]
  },
  {
   "cell_type": "code",
   "execution_count": 295,
   "metadata": {},
   "outputs": [
    {
     "ename": "PicklingError",
     "evalue": "Could not pickle the task to send it to the workers.",
     "output_type": "error",
     "traceback": [
      "\u001b[0;31m---------------------------------------------------------------------------\u001b[0m",
      "\u001b[0;31m_RemoteTraceback\u001b[0m                          Traceback (most recent call last)",
      "\u001b[0;31m_RemoteTraceback\u001b[0m: \n\"\"\"\nTraceback (most recent call last):\n  File \"/anaconda3/lib/python3.7/site-packages/sklearn/externals/joblib/externals/loky/backend/queues.py\", line 150, in _feed\n    obj_ = dumps(obj, reducers=reducers)\n  File \"/anaconda3/lib/python3.7/site-packages/sklearn/externals/joblib/externals/loky/backend/reduction.py\", line 243, in dumps\n    dump(obj, buf, reducers=reducers, protocol=protocol)\n  File \"/anaconda3/lib/python3.7/site-packages/sklearn/externals/joblib/externals/loky/backend/reduction.py\", line 236, in dump\n    _LokyPickler(file, reducers=reducers, protocol=protocol).dump(obj)\n  File \"/anaconda3/lib/python3.7/site-packages/sklearn/externals/joblib/externals/cloudpickle/cloudpickle.py\", line 284, in dump\n    return Pickler.dump(self, obj)\n  File \"/anaconda3/lib/python3.7/pickle.py\", line 437, in dump\n    self.save(obj)\n  File \"/anaconda3/lib/python3.7/pickle.py\", line 549, in save\n    self.save_reduce(obj=obj, *rv)\n  File \"/anaconda3/lib/python3.7/pickle.py\", line 662, in save_reduce\n    save(state)\n  File \"/anaconda3/lib/python3.7/pickle.py\", line 504, in save\n    f(self, obj) # Call unbound method with explicit self\n  File \"/anaconda3/lib/python3.7/pickle.py\", line 856, in save_dict\n    self._batch_setitems(obj.items())\n  File \"/anaconda3/lib/python3.7/pickle.py\", line 882, in _batch_setitems\n    save(v)\n  File \"/anaconda3/lib/python3.7/pickle.py\", line 549, in save\n    self.save_reduce(obj=obj, *rv)\n  File \"/anaconda3/lib/python3.7/pickle.py\", line 662, in save_reduce\n    save(state)\n  File \"/anaconda3/lib/python3.7/pickle.py\", line 504, in save\n    f(self, obj) # Call unbound method with explicit self\n  File \"/anaconda3/lib/python3.7/pickle.py\", line 856, in save_dict\n    self._batch_setitems(obj.items())\n  File \"/anaconda3/lib/python3.7/pickle.py\", line 887, in _batch_setitems\n    save(v)\n  File \"/anaconda3/lib/python3.7/pickle.py\", line 549, in save\n    self.save_reduce(obj=obj, *rv)\n  File \"/anaconda3/lib/python3.7/pickle.py\", line 662, in save_reduce\n    save(state)\n  File \"/anaconda3/lib/python3.7/pickle.py\", line 504, in save\n    f(self, obj) # Call unbound method with explicit self\n  File \"/anaconda3/lib/python3.7/pickle.py\", line 856, in save_dict\n    self._batch_setitems(obj.items())\n  File \"/anaconda3/lib/python3.7/pickle.py\", line 882, in _batch_setitems\n    save(v)\n  File \"/anaconda3/lib/python3.7/pickle.py\", line 504, in save\n    f(self, obj) # Call unbound method with explicit self\n  File \"/anaconda3/lib/python3.7/pickle.py\", line 816, in save_list\n    self._batch_appends(obj)\n  File \"/anaconda3/lib/python3.7/pickle.py\", line 840, in _batch_appends\n    save(x)\n  File \"/anaconda3/lib/python3.7/pickle.py\", line 504, in save\n    f(self, obj) # Call unbound method with explicit self\n  File \"/anaconda3/lib/python3.7/pickle.py\", line 771, in save_tuple\n    save(element)\n  File \"/anaconda3/lib/python3.7/pickle.py\", line 504, in save\n    f(self, obj) # Call unbound method with explicit self\n  File \"/anaconda3/lib/python3.7/pickle.py\", line 786, in save_tuple\n    save(element)\n  File \"/anaconda3/lib/python3.7/pickle.py\", line 510, in save\n    rv = reduce(obj)\n  File \"/anaconda3/lib/python3.7/site-packages/sklearn/externals/joblib/_memmapping_reducer.py\", line 339, in __call__\n    for dumped_filename in dump(a, filename):\n  File \"/anaconda3/lib/python3.7/site-packages/sklearn/externals/joblib/numpy_pickle.py\", line 502, in dump\n    NumpyPickler(f, protocol=protocol).dump(value)\n  File \"/anaconda3/lib/python3.7/pickle.py\", line 437, in dump\n    self.save(obj)\n  File \"/anaconda3/lib/python3.7/site-packages/sklearn/externals/joblib/numpy_pickle.py\", line 289, in save\n    wrapper.write_array(obj, self)\n  File \"/anaconda3/lib/python3.7/site-packages/sklearn/externals/joblib/numpy_pickle.py\", line 104, in write_array\n    pickler.file_handle.write(chunk.tostring('C'))\nOSError: [Errno 28] No space left on device\n\"\"\"",
      "\nThe above exception was the direct cause of the following exception:\n",
      "\u001b[0;31mPicklingError\u001b[0m                             Traceback (most recent call last)",
      "\u001b[0;32m<ipython-input-295-03df2908f2b4>\u001b[0m in \u001b[0;36m<module>\u001b[0;34m\u001b[0m\n\u001b[1;32m     10\u001b[0m                                       \u001b[0mn_jobs\u001b[0m \u001b[0;34m=\u001b[0m \u001b[0;34m-\u001b[0m\u001b[0;36m1\u001b[0m\u001b[0;34m,\u001b[0m               \u001b[0;31m# Use all available CPUs\u001b[0m\u001b[0;34m\u001b[0m\u001b[0;34m\u001b[0m\u001b[0m\n\u001b[1;32m     11\u001b[0m                                      )\n\u001b[0;32m---> 12\u001b[0;31m \u001b[0mcv_topic_lda\u001b[0m\u001b[0;34m=\u001b[0m \u001b[0mlda\u001b[0m\u001b[0;34m.\u001b[0m\u001b[0mfit_transform\u001b[0m\u001b[0;34m(\u001b[0m\u001b[0mdata_cv\u001b[0m\u001b[0;34m)\u001b[0m\u001b[0;34m\u001b[0m\u001b[0;34m\u001b[0m\u001b[0m\n\u001b[0m\u001b[1;32m     13\u001b[0m \u001b[0;34m\u001b[0m\u001b[0m\n\u001b[1;32m     14\u001b[0m \u001b[0mprint\u001b[0m\u001b[0;34m(\u001b[0m\u001b[0;34m\"--- %s seconds ---\"\u001b[0m \u001b[0;34m%\u001b[0m \u001b[0;34m(\u001b[0m\u001b[0mtime\u001b[0m\u001b[0;34m.\u001b[0m\u001b[0mtime\u001b[0m\u001b[0;34m(\u001b[0m\u001b[0;34m)\u001b[0m \u001b[0;34m-\u001b[0m \u001b[0mstart_time\u001b[0m\u001b[0;34m)\u001b[0m\u001b[0;34m)\u001b[0m\u001b[0;34m\u001b[0m\u001b[0;34m\u001b[0m\u001b[0m\n",
      "\u001b[0;32m/anaconda3/lib/python3.7/site-packages/sklearn/base.py\u001b[0m in \u001b[0;36mfit_transform\u001b[0;34m(self, X, y, **fit_params)\u001b[0m\n\u001b[1;32m    460\u001b[0m         \u001b[0;32mif\u001b[0m \u001b[0my\u001b[0m \u001b[0;32mis\u001b[0m \u001b[0;32mNone\u001b[0m\u001b[0;34m:\u001b[0m\u001b[0;34m\u001b[0m\u001b[0;34m\u001b[0m\u001b[0m\n\u001b[1;32m    461\u001b[0m             \u001b[0;31m# fit method of arity 1 (unsupervised transformation)\u001b[0m\u001b[0;34m\u001b[0m\u001b[0;34m\u001b[0m\u001b[0;34m\u001b[0m\u001b[0m\n\u001b[0;32m--> 462\u001b[0;31m             \u001b[0;32mreturn\u001b[0m \u001b[0mself\u001b[0m\u001b[0;34m.\u001b[0m\u001b[0mfit\u001b[0m\u001b[0;34m(\u001b[0m\u001b[0mX\u001b[0m\u001b[0;34m,\u001b[0m \u001b[0;34m**\u001b[0m\u001b[0mfit_params\u001b[0m\u001b[0;34m)\u001b[0m\u001b[0;34m.\u001b[0m\u001b[0mtransform\u001b[0m\u001b[0;34m(\u001b[0m\u001b[0mX\u001b[0m\u001b[0;34m)\u001b[0m\u001b[0;34m\u001b[0m\u001b[0;34m\u001b[0m\u001b[0m\n\u001b[0m\u001b[1;32m    463\u001b[0m         \u001b[0;32melse\u001b[0m\u001b[0;34m:\u001b[0m\u001b[0;34m\u001b[0m\u001b[0;34m\u001b[0m\u001b[0m\n\u001b[1;32m    464\u001b[0m             \u001b[0;31m# fit method of arity 2 (supervised transformation)\u001b[0m\u001b[0;34m\u001b[0m\u001b[0;34m\u001b[0m\u001b[0;34m\u001b[0m\u001b[0m\n",
      "\u001b[0;32m/anaconda3/lib/python3.7/site-packages/sklearn/decomposition/online_lda.py\u001b[0m in \u001b[0;36mfit\u001b[0;34m(self, X, y)\u001b[0m\n\u001b[1;32m    564\u001b[0m                     \u001b[0;32mfor\u001b[0m \u001b[0midx_slice\u001b[0m \u001b[0;32min\u001b[0m \u001b[0mgen_batches\u001b[0m\u001b[0;34m(\u001b[0m\u001b[0mn_samples\u001b[0m\u001b[0;34m,\u001b[0m \u001b[0mbatch_size\u001b[0m\u001b[0;34m)\u001b[0m\u001b[0;34m:\u001b[0m\u001b[0;34m\u001b[0m\u001b[0;34m\u001b[0m\u001b[0m\n\u001b[1;32m    565\u001b[0m                         self._em_step(X[idx_slice, :], total_samples=n_samples,\n\u001b[0;32m--> 566\u001b[0;31m                                       batch_update=False, parallel=parallel)\n\u001b[0m\u001b[1;32m    567\u001b[0m                 \u001b[0;32melse\u001b[0m\u001b[0;34m:\u001b[0m\u001b[0;34m\u001b[0m\u001b[0;34m\u001b[0m\u001b[0m\n\u001b[1;32m    568\u001b[0m                     \u001b[0;31m# batch update\u001b[0m\u001b[0;34m\u001b[0m\u001b[0;34m\u001b[0m\u001b[0;34m\u001b[0m\u001b[0m\n",
      "\u001b[0;32m/anaconda3/lib/python3.7/site-packages/sklearn/decomposition/online_lda.py\u001b[0m in \u001b[0;36m_em_step\u001b[0;34m(self, X, total_samples, batch_update, parallel)\u001b[0m\n\u001b[1;32m    451\u001b[0m         \u001b[0;31m# E-step\u001b[0m\u001b[0;34m\u001b[0m\u001b[0;34m\u001b[0m\u001b[0;34m\u001b[0m\u001b[0m\n\u001b[1;32m    452\u001b[0m         _, suff_stats = self._e_step(X, cal_sstats=True, random_init=True,\n\u001b[0;32m--> 453\u001b[0;31m                                      parallel=parallel)\n\u001b[0m\u001b[1;32m    454\u001b[0m \u001b[0;34m\u001b[0m\u001b[0m\n\u001b[1;32m    455\u001b[0m         \u001b[0;31m# M-step\u001b[0m\u001b[0;34m\u001b[0m\u001b[0;34m\u001b[0m\u001b[0;34m\u001b[0m\u001b[0m\n",
      "\u001b[0;32m/anaconda3/lib/python3.7/site-packages/sklearn/decomposition/online_lda.py\u001b[0m in \u001b[0;36m_e_step\u001b[0;34m(self, X, cal_sstats, random_init, parallel)\u001b[0m\n\u001b[1;32m    404\u001b[0m                                               \u001b[0mself\u001b[0m\u001b[0;34m.\u001b[0m\u001b[0mmean_change_tol\u001b[0m\u001b[0;34m,\u001b[0m \u001b[0mcal_sstats\u001b[0m\u001b[0;34m,\u001b[0m\u001b[0;34m\u001b[0m\u001b[0;34m\u001b[0m\u001b[0m\n\u001b[1;32m    405\u001b[0m                                               random_state)\n\u001b[0;32m--> 406\u001b[0;31m             for idx_slice in gen_even_slices(X.shape[0], n_jobs))\n\u001b[0m\u001b[1;32m    407\u001b[0m \u001b[0;34m\u001b[0m\u001b[0m\n\u001b[1;32m    408\u001b[0m         \u001b[0;31m# merge result\u001b[0m\u001b[0;34m\u001b[0m\u001b[0;34m\u001b[0m\u001b[0;34m\u001b[0m\u001b[0m\n",
      "\u001b[0;32m/anaconda3/lib/python3.7/site-packages/sklearn/externals/joblib/parallel.py\u001b[0m in \u001b[0;36m__call__\u001b[0;34m(self, iterable)\u001b[0m\n\u001b[1;32m    928\u001b[0m \u001b[0;34m\u001b[0m\u001b[0m\n\u001b[1;32m    929\u001b[0m             \u001b[0;32mwith\u001b[0m \u001b[0mself\u001b[0m\u001b[0;34m.\u001b[0m\u001b[0m_backend\u001b[0m\u001b[0;34m.\u001b[0m\u001b[0mretrieval_context\u001b[0m\u001b[0;34m(\u001b[0m\u001b[0;34m)\u001b[0m\u001b[0;34m:\u001b[0m\u001b[0;34m\u001b[0m\u001b[0;34m\u001b[0m\u001b[0m\n\u001b[0;32m--> 930\u001b[0;31m                 \u001b[0mself\u001b[0m\u001b[0;34m.\u001b[0m\u001b[0mretrieve\u001b[0m\u001b[0;34m(\u001b[0m\u001b[0;34m)\u001b[0m\u001b[0;34m\u001b[0m\u001b[0;34m\u001b[0m\u001b[0m\n\u001b[0m\u001b[1;32m    931\u001b[0m             \u001b[0;31m# Make sure that we get a last message telling us we are done\u001b[0m\u001b[0;34m\u001b[0m\u001b[0;34m\u001b[0m\u001b[0;34m\u001b[0m\u001b[0m\n\u001b[1;32m    932\u001b[0m             \u001b[0melapsed_time\u001b[0m \u001b[0;34m=\u001b[0m \u001b[0mtime\u001b[0m\u001b[0;34m.\u001b[0m\u001b[0mtime\u001b[0m\u001b[0;34m(\u001b[0m\u001b[0;34m)\u001b[0m \u001b[0;34m-\u001b[0m \u001b[0mself\u001b[0m\u001b[0;34m.\u001b[0m\u001b[0m_start_time\u001b[0m\u001b[0;34m\u001b[0m\u001b[0;34m\u001b[0m\u001b[0m\n",
      "\u001b[0;32m/anaconda3/lib/python3.7/site-packages/sklearn/externals/joblib/parallel.py\u001b[0m in \u001b[0;36mretrieve\u001b[0;34m(self)\u001b[0m\n\u001b[1;32m    831\u001b[0m             \u001b[0;32mtry\u001b[0m\u001b[0;34m:\u001b[0m\u001b[0;34m\u001b[0m\u001b[0;34m\u001b[0m\u001b[0m\n\u001b[1;32m    832\u001b[0m                 \u001b[0;32mif\u001b[0m \u001b[0mgetattr\u001b[0m\u001b[0;34m(\u001b[0m\u001b[0mself\u001b[0m\u001b[0;34m.\u001b[0m\u001b[0m_backend\u001b[0m\u001b[0;34m,\u001b[0m \u001b[0;34m'supports_timeout'\u001b[0m\u001b[0;34m,\u001b[0m \u001b[0;32mFalse\u001b[0m\u001b[0;34m)\u001b[0m\u001b[0;34m:\u001b[0m\u001b[0;34m\u001b[0m\u001b[0;34m\u001b[0m\u001b[0m\n\u001b[0;32m--> 833\u001b[0;31m                     \u001b[0mself\u001b[0m\u001b[0;34m.\u001b[0m\u001b[0m_output\u001b[0m\u001b[0;34m.\u001b[0m\u001b[0mextend\u001b[0m\u001b[0;34m(\u001b[0m\u001b[0mjob\u001b[0m\u001b[0;34m.\u001b[0m\u001b[0mget\u001b[0m\u001b[0;34m(\u001b[0m\u001b[0mtimeout\u001b[0m\u001b[0;34m=\u001b[0m\u001b[0mself\u001b[0m\u001b[0;34m.\u001b[0m\u001b[0mtimeout\u001b[0m\u001b[0;34m)\u001b[0m\u001b[0;34m)\u001b[0m\u001b[0;34m\u001b[0m\u001b[0;34m\u001b[0m\u001b[0m\n\u001b[0m\u001b[1;32m    834\u001b[0m                 \u001b[0;32melse\u001b[0m\u001b[0;34m:\u001b[0m\u001b[0;34m\u001b[0m\u001b[0;34m\u001b[0m\u001b[0m\n\u001b[1;32m    835\u001b[0m                     \u001b[0mself\u001b[0m\u001b[0;34m.\u001b[0m\u001b[0m_output\u001b[0m\u001b[0;34m.\u001b[0m\u001b[0mextend\u001b[0m\u001b[0;34m(\u001b[0m\u001b[0mjob\u001b[0m\u001b[0;34m.\u001b[0m\u001b[0mget\u001b[0m\u001b[0;34m(\u001b[0m\u001b[0;34m)\u001b[0m\u001b[0;34m)\u001b[0m\u001b[0;34m\u001b[0m\u001b[0;34m\u001b[0m\u001b[0m\n",
      "\u001b[0;32m/anaconda3/lib/python3.7/site-packages/sklearn/externals/joblib/_parallel_backends.py\u001b[0m in \u001b[0;36mwrap_future_result\u001b[0;34m(future, timeout)\u001b[0m\n\u001b[1;32m    519\u001b[0m         AsyncResults.get from multiprocessing.\"\"\"\n\u001b[1;32m    520\u001b[0m         \u001b[0;32mtry\u001b[0m\u001b[0;34m:\u001b[0m\u001b[0;34m\u001b[0m\u001b[0;34m\u001b[0m\u001b[0m\n\u001b[0;32m--> 521\u001b[0;31m             \u001b[0;32mreturn\u001b[0m \u001b[0mfuture\u001b[0m\u001b[0;34m.\u001b[0m\u001b[0mresult\u001b[0m\u001b[0;34m(\u001b[0m\u001b[0mtimeout\u001b[0m\u001b[0;34m=\u001b[0m\u001b[0mtimeout\u001b[0m\u001b[0;34m)\u001b[0m\u001b[0;34m\u001b[0m\u001b[0;34m\u001b[0m\u001b[0m\n\u001b[0m\u001b[1;32m    522\u001b[0m         \u001b[0;32mexcept\u001b[0m \u001b[0mLokyTimeoutError\u001b[0m\u001b[0;34m:\u001b[0m\u001b[0;34m\u001b[0m\u001b[0;34m\u001b[0m\u001b[0m\n\u001b[1;32m    523\u001b[0m             \u001b[0;32mraise\u001b[0m \u001b[0mTimeoutError\u001b[0m\u001b[0;34m(\u001b[0m\u001b[0;34m)\u001b[0m\u001b[0;34m\u001b[0m\u001b[0;34m\u001b[0m\u001b[0m\n",
      "\u001b[0;32m/anaconda3/lib/python3.7/concurrent/futures/_base.py\u001b[0m in \u001b[0;36mresult\u001b[0;34m(self, timeout)\u001b[0m\n\u001b[1;32m    430\u001b[0m                 \u001b[0;32mraise\u001b[0m \u001b[0mCancelledError\u001b[0m\u001b[0;34m(\u001b[0m\u001b[0;34m)\u001b[0m\u001b[0;34m\u001b[0m\u001b[0;34m\u001b[0m\u001b[0m\n\u001b[1;32m    431\u001b[0m             \u001b[0;32melif\u001b[0m \u001b[0mself\u001b[0m\u001b[0;34m.\u001b[0m\u001b[0m_state\u001b[0m \u001b[0;34m==\u001b[0m \u001b[0mFINISHED\u001b[0m\u001b[0;34m:\u001b[0m\u001b[0;34m\u001b[0m\u001b[0;34m\u001b[0m\u001b[0m\n\u001b[0;32m--> 432\u001b[0;31m                 \u001b[0;32mreturn\u001b[0m \u001b[0mself\u001b[0m\u001b[0;34m.\u001b[0m\u001b[0m__get_result\u001b[0m\u001b[0;34m(\u001b[0m\u001b[0;34m)\u001b[0m\u001b[0;34m\u001b[0m\u001b[0;34m\u001b[0m\u001b[0m\n\u001b[0m\u001b[1;32m    433\u001b[0m             \u001b[0;32melse\u001b[0m\u001b[0;34m:\u001b[0m\u001b[0;34m\u001b[0m\u001b[0;34m\u001b[0m\u001b[0m\n\u001b[1;32m    434\u001b[0m                 \u001b[0;32mraise\u001b[0m \u001b[0mTimeoutError\u001b[0m\u001b[0;34m(\u001b[0m\u001b[0;34m)\u001b[0m\u001b[0;34m\u001b[0m\u001b[0;34m\u001b[0m\u001b[0m\n",
      "\u001b[0;32m/anaconda3/lib/python3.7/concurrent/futures/_base.py\u001b[0m in \u001b[0;36m__get_result\u001b[0;34m(self)\u001b[0m\n\u001b[1;32m    382\u001b[0m     \u001b[0;32mdef\u001b[0m \u001b[0m__get_result\u001b[0m\u001b[0;34m(\u001b[0m\u001b[0mself\u001b[0m\u001b[0;34m)\u001b[0m\u001b[0;34m:\u001b[0m\u001b[0;34m\u001b[0m\u001b[0;34m\u001b[0m\u001b[0m\n\u001b[1;32m    383\u001b[0m         \u001b[0;32mif\u001b[0m \u001b[0mself\u001b[0m\u001b[0;34m.\u001b[0m\u001b[0m_exception\u001b[0m\u001b[0;34m:\u001b[0m\u001b[0;34m\u001b[0m\u001b[0;34m\u001b[0m\u001b[0m\n\u001b[0;32m--> 384\u001b[0;31m             \u001b[0;32mraise\u001b[0m \u001b[0mself\u001b[0m\u001b[0;34m.\u001b[0m\u001b[0m_exception\u001b[0m\u001b[0;34m\u001b[0m\u001b[0;34m\u001b[0m\u001b[0m\n\u001b[0m\u001b[1;32m    385\u001b[0m         \u001b[0;32melse\u001b[0m\u001b[0;34m:\u001b[0m\u001b[0;34m\u001b[0m\u001b[0;34m\u001b[0m\u001b[0m\n\u001b[1;32m    386\u001b[0m             \u001b[0;32mreturn\u001b[0m \u001b[0mself\u001b[0m\u001b[0;34m.\u001b[0m\u001b[0m_result\u001b[0m\u001b[0;34m\u001b[0m\u001b[0;34m\u001b[0m\u001b[0m\n",
      "\u001b[0;31mPicklingError\u001b[0m: Could not pickle the task to send it to the workers."
     ]
    }
   ],
   "source": [
    "# Build LDA Model\n",
    "start_time=time.time()\n",
    "\n",
    "lda = LatentDirichletAllocation(n_components=3,          # Number of topics\n",
    "#                                       max_iter=200,              # Max learning iterations\n",
    "                                      learning_method='online',   \n",
    "                                      random_state=100,          # Random state\n",
    "                                      batch_size=128,            # n docs in each learning iter\n",
    "                                      evaluate_every = -1,       # compute perplexity every n iters, default: Don't\n",
    "                                      n_jobs = -1,               # Use all available CPUs\n",
    "                                     )\n",
    "cv_topic_lda= lda.fit_transform(data_cv)\n",
    "\n",
    "print(\"--- %s seconds ---\" % (time.time() - start_time))\n"
   ]
  },
  {
   "cell_type": "code",
   "execution_count": null,
   "metadata": {},
   "outputs": [],
   "source": []
  }
 ],
 "metadata": {
  "kernelspec": {
   "display_name": "Python 3",
   "language": "python",
   "name": "python3"
  },
  "language_info": {
   "codemirror_mode": {
    "name": "ipython",
    "version": 3
   },
   "file_extension": ".py",
   "mimetype": "text/x-python",
   "name": "python",
   "nbconvert_exporter": "python",
   "pygments_lexer": "ipython3",
   "version": "3.7.1"
  }
 },
 "nbformat": 4,
 "nbformat_minor": 2
}
